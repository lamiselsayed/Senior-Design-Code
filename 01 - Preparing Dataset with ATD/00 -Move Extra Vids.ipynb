{
 "cells": [
  {
   "cell_type": "code",
   "execution_count": 1,
   "metadata": {},
   "outputs": [],
   "source": [
    "import os\n",
    "import shutil"
   ]
  },
  {
   "cell_type": "code",
   "execution_count": null,
   "metadata": {},
   "outputs": [],
   "source": [
    "def move_extra_items(src_folder, dest_folder, num_to_keep):\n",
    "    # Create the destination folder if it doesn't exist\n",
    "    if not os.path.exists(dest_folder):\n",
    "        os.makedirs(dest_folder)\n",
    "\n",
    "    # Iterate through each folder in the source directory\n",
    "    for participant in os.listdir(src_folder):\n",
    "        part_path = os.path.join(src_folder, participant)\n",
    "        for sentence in os.listdir(part_path):\n",
    "            sent_path = os.path.join(part_path, sentence)\n",
    "            items = os.listdir(sent_path)\n",
    "            if len(items) > num_to_keep:\n",
    "                extra_items = items[num_to_keep:]\n",
    "                for item in extra_items:\n",
    "                    src_item_path = os.path.join(sent_path, item)\n",
    "                    dest_item_path = os.path.join(dest_folder, item)\n",
    "                    shutil.move(src_item_path, dest_item_path)\n",
    "\n"
   ]
  },
  {
   "cell_type": "code",
   "execution_count": null,
   "metadata": {},
   "outputs": [],
   "source": [
    "# Specify your source folder, destination folder, and the number of items to keep\n",
    "source_folder = r\"C:\\Users\\user\\OneDrive\\Desktop\\ArabSign ATD Training\"\n",
    "destination_folder = r\"C:\\Users\\user\\OneDrive\\Desktop\\ArabSign ATD Extra Training\"\n",
    "items_to_keep = 26\n",
    "\n",
    "# Call the function to move extra items\n",
    "move_extra_items(source_folder, destination_folder, items_to_keep)"
   ]
  }
 ],
 "metadata": {
  "kernelspec": {
   "display_name": "base",
   "language": "python",
   "name": "python3"
  },
  "language_info": {
   "codemirror_mode": {
    "name": "ipython",
    "version": 3
   },
   "file_extension": ".py",
   "mimetype": "text/x-python",
   "name": "python",
   "nbconvert_exporter": "python",
   "pygments_lexer": "ipython3",
   "version": "3.11.5"
  }
 },
 "nbformat": 4,
 "nbformat_minor": 2
}
