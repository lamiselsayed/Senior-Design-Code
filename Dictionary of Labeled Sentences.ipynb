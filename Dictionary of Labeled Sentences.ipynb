{
 "cells": [
  {
   "cell_type": "code",
   "execution_count": 2,
   "metadata": {},
   "outputs": [
    {
     "name": "stdout",
     "output_type": "stream",
     "text": [
      "1: [5, 34]\n",
      "2: [20, 34]\n",
      "3: [50, 28, 30, 24]\n",
      "4: [26, 64, 56, 34, 43]\n",
      "5: [36, 10, 39, 44, 3]\n",
      "6: [86, 55, 79, 13, 31]\n",
      "7: [74, 36, 83, 71, 23]\n",
      "8: [41, 74, 62]\n",
      "9: [78, 59, 34]\n",
      "10: [34, 11]\n",
      "11: [78, 59, 62, 2]\n",
      "12: [29, 34, 91]\n",
      "13: [34, 73]\n",
      "14: [34, 57]\n",
      "15: [41, 74, 84]\n",
      "16: [76, 70, 34]\n",
      "17: [34, 67]\n",
      "18: [34, 92, 50, 35]\n",
      "19: [21, 53, 34]\n",
      "20: [82, 50, 35]\n",
      "21: [34, 53, 35, 63]\n",
      "22: [60, 39]\n",
      "23: [45, 39, 54]\n",
      "24: [41, 48, 7, 15, 81]\n",
      "25: [46, 79, 13, 85, 14]\n",
      "26: [38, 51, 46, 79, 13]\n",
      "27: [38, 58]\n",
      "28: [42, 25]\n",
      "29: [66, 1, 71, 37]\n",
      "30: [18, 47, 85, 33]\n",
      "31: [28, 48, 6, 50, 24]\n",
      "32: [47, 85, 28, 49]\n",
      "33: [47, 18, 85]\n",
      "34: [90, 89]\n",
      "35: [34, 80, 39]\n",
      "36: [34, 72, 65]\n",
      "37: [48, 34, 69]\n",
      "38: [87, 39, 50]\n",
      "39: [75, 40]\n",
      "40: [34, 9]\n",
      "41: [88, 61]\n",
      "42: [86, 68, 77]\n",
      "43: [17, 16]\n",
      "44: [93, 32]\n",
      "45: [27, 22]\n",
      "46: [52, 19]\n",
      "47: [80, 66, 5, 34]\n",
      "48: [4, 39]\n",
      "49: [34, 8]\n",
      "50: [12, 79, 13]\n"
     ]
    }
   ],
   "source": [
    "import pandas as pd\n",
    "\n",
    "df = pd.read_excel(\"Dataset Excel Sheets/ArabSign Labeled Sentence.xlsx\", header=None, names=['Key', 'Value'])\n",
    "data_dict = {key: [int(i) for i in str(values).split(',') if i.strip().isdigit()] for key, values in zip(df['Key'], df['Value'])}\n",
    "\n",
    "for key, values in data_dict.items():\n",
    "    print(f\"{key}: {values}\")"
   ]
  }
 ],
 "metadata": {
  "kernelspec": {
   "display_name": "Python 3",
   "language": "python",
   "name": "python3"
  },
  "language_info": {
   "codemirror_mode": {
    "name": "ipython",
    "version": 3
   },
   "file_extension": ".py",
   "mimetype": "text/x-python",
   "name": "python",
   "nbconvert_exporter": "python",
   "pygments_lexer": "ipython3",
   "version": "3.12.0"
  }
 },
 "nbformat": 4,
 "nbformat_minor": 2
}
