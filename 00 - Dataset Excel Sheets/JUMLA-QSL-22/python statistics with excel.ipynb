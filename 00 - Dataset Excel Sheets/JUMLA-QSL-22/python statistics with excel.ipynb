{
 "cells": [
  {
   "cell_type": "code",
   "execution_count": 1,
   "metadata": {},
   "outputs": [],
   "source": [
    "import pandas as pd\n",
    "import numpy as np"
   ]
  },
  {
   "cell_type": "code",
   "execution_count": null,
   "metadata": {},
   "outputs": [],
   "source": [
    "excelfile = pd.ExcelFile('Full Frames Count.xlsx')\n",
    "df_1word = pd.read_excel(excelfile, '1 word')\n",
    "df_2words = pd.read_excel(excelfile, '2 words')\n",
    "df_3words = pd.read_excel(excelfile, '3 words')\n",
    "df_4words = pd.read_excel(excelfile, '4 words')\n",
    "df_5words = pd.read_excel(excelfile, '5 words')"
   ]
  },
  {
   "cell_type": "markdown",
   "metadata": {},
   "source": [
    "25th to 75th percentile ranges:\n",
    "\n",
    "1 word: [196, 260] \\\n",
    "2 words: [225, 297] \\\n",
    "3 words: [242, 341] \\\n",
    "4 words: [297, 396] \\\n",
    "5 words: [306, 407]"
   ]
  },
  {
   "cell_type": "code",
   "execution_count": 8,
   "metadata": {},
   "outputs": [
    {
     "data": {
      "text/plain": [
       "count    2280.000000\n",
       "mean      228.438158\n",
       "std        60.353090\n",
       "min         0.000000\n",
       "25%       196.000000\n",
       "50%       227.000000\n",
       "75%       260.000000\n",
       "max       923.000000\n",
       "Name: Number of Frames, dtype: float64"
      ]
     },
     "execution_count": 8,
     "metadata": {},
     "output_type": "execute_result"
    }
   ],
   "source": [
    "df_1word['Number of Frames'].describe()"
   ]
  },
  {
   "cell_type": "code",
   "execution_count": 10,
   "metadata": {},
   "outputs": [
    {
     "data": {
      "text/plain": [
       "count    1332.000000\n",
       "mean      259.271021\n",
       "std        66.744684\n",
       "min         0.000000\n",
       "25%       225.000000\n",
       "50%       255.000000\n",
       "75%       297.250000\n",
       "max       640.000000\n",
       "Name: Number of Frames, dtype: float64"
      ]
     },
     "execution_count": 10,
     "metadata": {},
     "output_type": "execute_result"
    }
   ],
   "source": [
    "df_2words['Number of Frames'].describe()"
   ]
  },
  {
   "cell_type": "code",
   "execution_count": 11,
   "metadata": {},
   "outputs": [
    {
     "data": {
      "text/plain": [
       "count    636.000000\n",
       "mean     289.861635\n",
       "std       84.857897\n",
       "min        0.000000\n",
       "25%      242.000000\n",
       "50%      290.500000\n",
       "75%      341.000000\n",
       "max      596.000000\n",
       "Name: Number of Frames, dtype: float64"
      ]
     },
     "execution_count": 11,
     "metadata": {},
     "output_type": "execute_result"
    }
   ],
   "source": [
    "df_3words['Number of Frames'].describe()"
   ]
  },
  {
   "cell_type": "code",
   "execution_count": 12,
   "metadata": {},
   "outputs": [
    {
     "data": {
      "text/plain": [
       "count    384.000000\n",
       "mean     344.372396\n",
       "std       88.704305\n",
       "min        0.000000\n",
       "25%      297.750000\n",
       "50%      338.000000\n",
       "75%      396.000000\n",
       "max      594.000000\n",
       "Name: Number of Frames, dtype: float64"
      ]
     },
     "execution_count": 12,
     "metadata": {},
     "output_type": "execute_result"
    }
   ],
   "source": [
    "df_4words['Number of Frames'].describe()"
   ]
  },
  {
   "cell_type": "code",
   "execution_count": 13,
   "metadata": {},
   "outputs": [
    {
     "data": {
      "text/plain": [
       "count    414.000000\n",
       "mean     358.381643\n",
       "std       84.063416\n",
       "min        8.000000\n",
       "25%      306.250000\n",
       "50%      355.000000\n",
       "75%      407.750000\n",
       "max      640.000000\n",
       "Name: Number of Frames, dtype: float64"
      ]
     },
     "execution_count": 13,
     "metadata": {},
     "output_type": "execute_result"
    }
   ],
   "source": [
    "df_5words['Number of Frames'].describe()"
   ]
  }
 ],
 "metadata": {
  "kernelspec": {
   "display_name": "Python 3",
   "language": "python",
   "name": "python3"
  },
  "language_info": {
   "codemirror_mode": {
    "name": "ipython",
    "version": 3
   },
   "file_extension": ".py",
   "mimetype": "text/x-python",
   "name": "python",
   "nbconvert_exporter": "python",
   "pygments_lexer": "ipython3",
   "version": "3.11.5"
  }
 },
 "nbformat": 4,
 "nbformat_minor": 2
}
