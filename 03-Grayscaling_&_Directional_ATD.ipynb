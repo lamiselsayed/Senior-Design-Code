{
 "cells": [
  {
   "cell_type": "markdown",
   "metadata": {},
   "source": [
    "### Read Videos & Convert to Frames"
   ]
  },
  {
   "cell_type": "code",
   "execution_count": 1,
   "metadata": {},
   "outputs": [],
   "source": [
    "import os\n",
    "import logging\n",
    "import subprocess"
   ]
  },
  {
   "cell_type": "code",
   "execution_count": 62,
   "metadata": {},
   "outputs": [],
   "source": [
    "def create_folders_and_export_videos(directory_path):\n",
    "    logging.basicConfig(level=logging.INFO) \n",
    "\n",
    "    # List all .svo video files in the specified directory\n",
    "    svo_files = [file for file in os.listdir(directory_path) if file.lower().endswith('.svo')]\n",
    "\n",
    "    # Create 'file2' folder if not exists (the folder holding the frames of each video)\n",
    "    image_folder_path = os.path.join('C:/Users/user/Downloads/file2')\n",
    "    if not os.path.exists(image_folder_path):\n",
    "        os.makedirs(image_folder_path)\n",
    "        logging.info(f\"Folder 'image' created at {image_folder_path}\")\n",
    "\n",
    "    # Process each .svo video file\n",
    "    for svo_file in svo_files:\n",
    "        video_path = os.path.join(directory_path, svo_file)\n",
    "        output_path = os.path.join(image_folder_path, os.path.splitext(svo_file)[0])\n",
    "\n",
    "        # Check if the folder already exists\n",
    "        if not os.path.exists(output_path):\n",
    "            os.makedirs(output_path)\n",
    "            logging.info(f\"Folder '{os.path.splitext(svo_file)[0]}' created at {output_path}\")\n",
    "        else:\n",
    "            logging.info(f\"Folder '{os.path.splitext(svo_file)[0]}' already exists at {output_path}\")\n",
    "\n",
    "        # Run ZED_SVO_Export.exe command for .svo files (must be run from the same directory as the SDK so change the directories first)\n",
    "        zed_sdk_bin_path = 'C:/Program Files (x86)/ZED SDK/samples/bin'\n",
    "        os.chdir(zed_sdk_bin_path)\n",
    "        command = f'ZED_SVO_Export.exe \"{video_path}\" \"{output_path}/\" 3'\n",
    "        subprocess.run(command, shell=True)\n",
    "\n",
    "        # Check the exported files and delete those that do not start with \"left\" (we don't want the depth information)\n",
    "        exported_files = [file for file in os.listdir(output_path) if file.lower().endswith('.png')]\n",
    "        for exported_file in exported_files:\n",
    "            if not exported_file.lower().startswith('left'):\n",
    "                file_path = os.path.join(output_path, exported_file)\n",
    "                os.remove(file_path)\n",
    "                logging.info(f\"File '{exported_file}' deleted as it does not start with 'left'\")\n",
    "\n",
    "        print(f\".svo file '{svo_file}' exported and saved in '{output_path}'\")"
   ]
  },
  {
   "cell_type": "code",
   "execution_count": 63,
   "metadata": {},
   "outputs": [
    {
     "name": "stderr",
     "output_type": "stream",
     "text": [
      "INFO:root:Folder 'f_HQ059_rec0' created at C:/Users/user/Downloads/file2\\f_HQ059_rec0\n",
      "INFO:root:File 'depth000000.png' deleted as it does not start with 'left'\n",
      "INFO:root:File 'depth000001.png' deleted as it does not start with 'left'\n",
      "INFO:root:File 'depth000002.png' deleted as it does not start with 'left'\n",
      "INFO:root:File 'depth000003.png' deleted as it does not start with 'left'\n",
      "INFO:root:File 'depth000004.png' deleted as it does not start with 'left'\n",
      "INFO:root:File 'depth000005.png' deleted as it does not start with 'left'\n",
      "INFO:root:File 'depth000006.png' deleted as it does not start with 'left'\n",
      "INFO:root:File 'depth000007.png' deleted as it does not start with 'left'\n",
      "INFO:root:File 'depth000008.png' deleted as it does not start with 'left'\n",
      "INFO:root:File 'depth000009.png' deleted as it does not start with 'left'\n",
      "INFO:root:File 'depth000010.png' deleted as it does not start with 'left'\n",
      "INFO:root:File 'depth000011.png' deleted as it does not start with 'left'\n",
      "INFO:root:File 'depth000012.png' deleted as it does not start with 'left'\n",
      "INFO:root:File 'depth000013.png' deleted as it does not start with 'left'\n",
      "INFO:root:File 'depth000014.png' deleted as it does not start with 'left'\n",
      "INFO:root:File 'depth000015.png' deleted as it does not start with 'left'\n",
      "INFO:root:File 'depth000016.png' deleted as it does not start with 'left'\n",
      "INFO:root:File 'depth000017.png' deleted as it does not start with 'left'\n",
      "INFO:root:File 'depth000018.png' deleted as it does not start with 'left'\n",
      "INFO:root:File 'depth000019.png' deleted as it does not start with 'left'\n",
      "INFO:root:File 'depth000020.png' deleted as it does not start with 'left'\n",
      "INFO:root:File 'depth000021.png' deleted as it does not start with 'left'\n",
      "INFO:root:File 'depth000022.png' deleted as it does not start with 'left'\n",
      "INFO:root:File 'depth000023.png' deleted as it does not start with 'left'\n",
      "INFO:root:File 'depth000024.png' deleted as it does not start with 'left'\n",
      "INFO:root:File 'depth000025.png' deleted as it does not start with 'left'\n",
      "INFO:root:File 'depth000026.png' deleted as it does not start with 'left'\n",
      "INFO:root:File 'depth000027.png' deleted as it does not start with 'left'\n",
      "INFO:root:File 'depth000028.png' deleted as it does not start with 'left'\n",
      "INFO:root:File 'depth000029.png' deleted as it does not start with 'left'\n",
      "INFO:root:File 'depth000030.png' deleted as it does not start with 'left'\n",
      "INFO:root:File 'depth000031.png' deleted as it does not start with 'left'\n",
      "INFO:root:File 'depth000032.png' deleted as it does not start with 'left'\n",
      "INFO:root:File 'depth000033.png' deleted as it does not start with 'left'\n",
      "INFO:root:File 'depth000034.png' deleted as it does not start with 'left'\n",
      "INFO:root:File 'depth000035.png' deleted as it does not start with 'left'\n",
      "INFO:root:File 'depth000036.png' deleted as it does not start with 'left'\n",
      "INFO:root:File 'depth000037.png' deleted as it does not start with 'left'\n",
      "INFO:root:File 'depth000038.png' deleted as it does not start with 'left'\n",
      "INFO:root:File 'depth000039.png' deleted as it does not start with 'left'\n",
      "INFO:root:File 'depth000040.png' deleted as it does not start with 'left'\n",
      "INFO:root:File 'depth000041.png' deleted as it does not start with 'left'\n",
      "INFO:root:File 'depth000042.png' deleted as it does not start with 'left'\n",
      "INFO:root:File 'depth000043.png' deleted as it does not start with 'left'\n",
      "INFO:root:File 'depth000044.png' deleted as it does not start with 'left'\n",
      "INFO:root:File 'depth000045.png' deleted as it does not start with 'left'\n",
      "INFO:root:File 'depth000046.png' deleted as it does not start with 'left'\n",
      "INFO:root:File 'depth000047.png' deleted as it does not start with 'left'\n",
      "INFO:root:File 'depth000048.png' deleted as it does not start with 'left'\n",
      "INFO:root:File 'depth000049.png' deleted as it does not start with 'left'\n",
      "INFO:root:File 'depth000050.png' deleted as it does not start with 'left'\n",
      "INFO:root:File 'depth000051.png' deleted as it does not start with 'left'\n",
      "INFO:root:File 'depth000052.png' deleted as it does not start with 'left'\n",
      "INFO:root:File 'depth000053.png' deleted as it does not start with 'left'\n",
      "INFO:root:File 'depth000054.png' deleted as it does not start with 'left'\n",
      "INFO:root:File 'depth000055.png' deleted as it does not start with 'left'\n",
      "INFO:root:File 'depth000056.png' deleted as it does not start with 'left'\n",
      "INFO:root:File 'depth000057.png' deleted as it does not start with 'left'\n",
      "INFO:root:File 'depth000058.png' deleted as it does not start with 'left'\n",
      "INFO:root:File 'depth000059.png' deleted as it does not start with 'left'\n",
      "INFO:root:File 'depth000060.png' deleted as it does not start with 'left'\n",
      "INFO:root:File 'depth000061.png' deleted as it does not start with 'left'\n",
      "INFO:root:File 'depth000062.png' deleted as it does not start with 'left'\n",
      "INFO:root:File 'depth000063.png' deleted as it does not start with 'left'\n",
      "INFO:root:File 'depth000064.png' deleted as it does not start with 'left'\n",
      "INFO:root:File 'depth000065.png' deleted as it does not start with 'left'\n",
      "INFO:root:File 'depth000066.png' deleted as it does not start with 'left'\n",
      "INFO:root:File 'depth000067.png' deleted as it does not start with 'left'\n",
      "INFO:root:File 'depth000068.png' deleted as it does not start with 'left'\n",
      "INFO:root:File 'depth000069.png' deleted as it does not start with 'left'\n",
      "INFO:root:File 'depth000070.png' deleted as it does not start with 'left'\n",
      "INFO:root:File 'depth000071.png' deleted as it does not start with 'left'\n",
      "INFO:root:File 'depth000072.png' deleted as it does not start with 'left'\n",
      "INFO:root:File 'depth000073.png' deleted as it does not start with 'left'\n",
      "INFO:root:File 'depth000074.png' deleted as it does not start with 'left'\n",
      "INFO:root:File 'depth000075.png' deleted as it does not start with 'left'\n",
      "INFO:root:File 'depth000076.png' deleted as it does not start with 'left'\n",
      "INFO:root:File 'depth000077.png' deleted as it does not start with 'left'\n",
      "INFO:root:File 'depth000078.png' deleted as it does not start with 'left'\n",
      "INFO:root:File 'depth000079.png' deleted as it does not start with 'left'\n",
      "INFO:root:File 'depth000080.png' deleted as it does not start with 'left'\n",
      "INFO:root:File 'depth000081.png' deleted as it does not start with 'left'\n",
      "INFO:root:File 'depth000082.png' deleted as it does not start with 'left'\n",
      "INFO:root:File 'depth000083.png' deleted as it does not start with 'left'\n",
      "INFO:root:File 'depth000084.png' deleted as it does not start with 'left'\n",
      "INFO:root:File 'depth000085.png' deleted as it does not start with 'left'\n",
      "INFO:root:File 'depth000086.png' deleted as it does not start with 'left'\n",
      "INFO:root:File 'depth000087.png' deleted as it does not start with 'left'\n",
      "INFO:root:File 'depth000088.png' deleted as it does not start with 'left'\n",
      "INFO:root:File 'depth000089.png' deleted as it does not start with 'left'\n",
      "INFO:root:File 'depth000090.png' deleted as it does not start with 'left'\n",
      "INFO:root:File 'depth000091.png' deleted as it does not start with 'left'\n",
      "INFO:root:File 'depth000092.png' deleted as it does not start with 'left'\n",
      "INFO:root:File 'depth000093.png' deleted as it does not start with 'left'\n",
      "INFO:root:File 'depth000094.png' deleted as it does not start with 'left'\n",
      "INFO:root:File 'depth000095.png' deleted as it does not start with 'left'\n",
      "INFO:root:File 'depth000096.png' deleted as it does not start with 'left'\n",
      "INFO:root:File 'depth000097.png' deleted as it does not start with 'left'\n",
      "INFO:root:File 'depth000098.png' deleted as it does not start with 'left'\n",
      "INFO:root:File 'depth000099.png' deleted as it does not start with 'left'\n",
      "INFO:root:File 'depth000100.png' deleted as it does not start with 'left'\n",
      "INFO:root:File 'depth000101.png' deleted as it does not start with 'left'\n",
      "INFO:root:File 'depth000102.png' deleted as it does not start with 'left'\n",
      "INFO:root:File 'depth000103.png' deleted as it does not start with 'left'\n",
      "INFO:root:File 'depth000104.png' deleted as it does not start with 'left'\n",
      "INFO:root:File 'depth000105.png' deleted as it does not start with 'left'\n",
      "INFO:root:File 'depth000106.png' deleted as it does not start with 'left'\n",
      "INFO:root:File 'depth000107.png' deleted as it does not start with 'left'\n",
      "INFO:root:File 'depth000108.png' deleted as it does not start with 'left'\n",
      "INFO:root:File 'depth000109.png' deleted as it does not start with 'left'\n",
      "INFO:root:File 'depth000110.png' deleted as it does not start with 'left'\n",
      "INFO:root:File 'depth000111.png' deleted as it does not start with 'left'\n",
      "INFO:root:File 'depth000112.png' deleted as it does not start with 'left'\n",
      "INFO:root:File 'depth000113.png' deleted as it does not start with 'left'\n",
      "INFO:root:File 'depth000114.png' deleted as it does not start with 'left'\n",
      "INFO:root:File 'depth000115.png' deleted as it does not start with 'left'\n",
      "INFO:root:File 'depth000116.png' deleted as it does not start with 'left'\n",
      "INFO:root:File 'depth000117.png' deleted as it does not start with 'left'\n",
      "INFO:root:File 'depth000118.png' deleted as it does not start with 'left'\n",
      "INFO:root:File 'depth000119.png' deleted as it does not start with 'left'\n",
      "INFO:root:File 'depth000120.png' deleted as it does not start with 'left'\n",
      "INFO:root:File 'depth000121.png' deleted as it does not start with 'left'\n",
      "INFO:root:File 'depth000122.png' deleted as it does not start with 'left'\n",
      "INFO:root:File 'depth000123.png' deleted as it does not start with 'left'\n",
      "INFO:root:File 'depth000124.png' deleted as it does not start with 'left'\n",
      "INFO:root:File 'depth000125.png' deleted as it does not start with 'left'\n",
      "INFO:root:File 'depth000126.png' deleted as it does not start with 'left'\n",
      "INFO:root:File 'depth000127.png' deleted as it does not start with 'left'\n",
      "INFO:root:File 'depth000128.png' deleted as it does not start with 'left'\n",
      "INFO:root:File 'depth000129.png' deleted as it does not start with 'left'\n",
      "INFO:root:File 'depth000130.png' deleted as it does not start with 'left'\n",
      "INFO:root:File 'depth000131.png' deleted as it does not start with 'left'\n",
      "INFO:root:File 'depth000132.png' deleted as it does not start with 'left'\n",
      "INFO:root:File 'depth000133.png' deleted as it does not start with 'left'\n",
      "INFO:root:File 'depth000134.png' deleted as it does not start with 'left'\n",
      "INFO:root:File 'depth000135.png' deleted as it does not start with 'left'\n",
      "INFO:root:File 'depth000136.png' deleted as it does not start with 'left'\n",
      "INFO:root:File 'depth000137.png' deleted as it does not start with 'left'\n",
      "INFO:root:File 'depth000138.png' deleted as it does not start with 'left'\n",
      "INFO:root:File 'depth000139.png' deleted as it does not start with 'left'\n",
      "INFO:root:File 'depth000140.png' deleted as it does not start with 'left'\n",
      "INFO:root:File 'depth000141.png' deleted as it does not start with 'left'\n",
      "INFO:root:File 'depth000142.png' deleted as it does not start with 'left'\n",
      "INFO:root:File 'depth000143.png' deleted as it does not start with 'left'\n",
      "INFO:root:File 'depth000144.png' deleted as it does not start with 'left'\n",
      "INFO:root:File 'depth000145.png' deleted as it does not start with 'left'\n",
      "INFO:root:File 'depth000146.png' deleted as it does not start with 'left'\n",
      "INFO:root:File 'depth000147.png' deleted as it does not start with 'left'\n",
      "INFO:root:File 'depth000148.png' deleted as it does not start with 'left'\n",
      "INFO:root:File 'depth000149.png' deleted as it does not start with 'left'\n",
      "INFO:root:File 'depth000150.png' deleted as it does not start with 'left'\n",
      "INFO:root:File 'depth000151.png' deleted as it does not start with 'left'\n",
      "INFO:root:File 'depth000152.png' deleted as it does not start with 'left'\n",
      "INFO:root:File 'depth000153.png' deleted as it does not start with 'left'\n",
      "INFO:root:File 'depth000154.png' deleted as it does not start with 'left'\n",
      "INFO:root:File 'depth000155.png' deleted as it does not start with 'left'\n",
      "INFO:root:File 'depth000156.png' deleted as it does not start with 'left'\n",
      "INFO:root:File 'depth000157.png' deleted as it does not start with 'left'\n",
      "INFO:root:File 'depth000158.png' deleted as it does not start with 'left'\n",
      "INFO:root:File 'depth000159.png' deleted as it does not start with 'left'\n",
      "INFO:root:File 'depth000160.png' deleted as it does not start with 'left'\n",
      "INFO:root:File 'depth000161.png' deleted as it does not start with 'left'\n",
      "INFO:root:File 'depth000162.png' deleted as it does not start with 'left'\n",
      "INFO:root:File 'depth000163.png' deleted as it does not start with 'left'\n",
      "INFO:root:File 'depth000164.png' deleted as it does not start with 'left'\n",
      "INFO:root:File 'depth000165.png' deleted as it does not start with 'left'\n",
      "INFO:root:File 'depth000166.png' deleted as it does not start with 'left'\n",
      "INFO:root:File 'depth000167.png' deleted as it does not start with 'left'\n",
      "INFO:root:File 'depth000168.png' deleted as it does not start with 'left'\n",
      "INFO:root:File 'depth000169.png' deleted as it does not start with 'left'\n",
      "INFO:root:File 'depth000170.png' deleted as it does not start with 'left'\n",
      "INFO:root:File 'depth000171.png' deleted as it does not start with 'left'\n",
      "INFO:root:File 'depth000172.png' deleted as it does not start with 'left'\n",
      "INFO:root:File 'depth000173.png' deleted as it does not start with 'left'\n",
      "INFO:root:File 'depth000174.png' deleted as it does not start with 'left'\n",
      "INFO:root:File 'depth000175.png' deleted as it does not start with 'left'\n",
      "INFO:root:File 'depth000176.png' deleted as it does not start with 'left'\n",
      "INFO:root:File 'depth000177.png' deleted as it does not start with 'left'\n",
      "INFO:root:File 'depth000178.png' deleted as it does not start with 'left'\n",
      "INFO:root:File 'depth000179.png' deleted as it does not start with 'left'\n",
      "INFO:root:File 'depth000180.png' deleted as it does not start with 'left'\n",
      "INFO:root:File 'depth000181.png' deleted as it does not start with 'left'\n",
      "INFO:root:File 'depth000182.png' deleted as it does not start with 'left'\n",
      "INFO:root:File 'depth000183.png' deleted as it does not start with 'left'\n",
      "INFO:root:File 'depth000184.png' deleted as it does not start with 'left'\n",
      "INFO:root:File 'depth000185.png' deleted as it does not start with 'left'\n",
      "INFO:root:File 'depth000186.png' deleted as it does not start with 'left'\n",
      "INFO:root:File 'depth000187.png' deleted as it does not start with 'left'\n",
      "INFO:root:File 'depth000188.png' deleted as it does not start with 'left'\n",
      "INFO:root:File 'depth000189.png' deleted as it does not start with 'left'\n",
      "INFO:root:File 'depth000190.png' deleted as it does not start with 'left'\n",
      "INFO:root:File 'depth000191.png' deleted as it does not start with 'left'\n",
      "INFO:root:File 'depth000192.png' deleted as it does not start with 'left'\n",
      "INFO:root:File 'depth000193.png' deleted as it does not start with 'left'\n",
      "INFO:root:File 'depth000194.png' deleted as it does not start with 'left'\n",
      "INFO:root:File 'depth000195.png' deleted as it does not start with 'left'\n",
      "INFO:root:File 'depth000196.png' deleted as it does not start with 'left'\n",
      "INFO:root:File 'depth000197.png' deleted as it does not start with 'left'\n",
      "INFO:root:File 'depth000198.png' deleted as it does not start with 'left'\n",
      "INFO:root:File 'depth000199.png' deleted as it does not start with 'left'\n",
      "INFO:root:File 'depth000200.png' deleted as it does not start with 'left'\n",
      "INFO:root:File 'depth000201.png' deleted as it does not start with 'left'\n",
      "INFO:root:File 'depth000202.png' deleted as it does not start with 'left'\n",
      "INFO:root:File 'depth000203.png' deleted as it does not start with 'left'\n",
      "INFO:root:File 'depth000204.png' deleted as it does not start with 'left'\n",
      "INFO:root:File 'depth000205.png' deleted as it does not start with 'left'\n",
      "INFO:root:File 'depth000206.png' deleted as it does not start with 'left'\n",
      "INFO:root:File 'depth000207.png' deleted as it does not start with 'left'\n",
      "INFO:root:File 'depth000208.png' deleted as it does not start with 'left'\n",
      "INFO:root:File 'depth000209.png' deleted as it does not start with 'left'\n",
      "INFO:root:File 'depth000210.png' deleted as it does not start with 'left'\n",
      "INFO:root:File 'depth000211.png' deleted as it does not start with 'left'\n",
      "INFO:root:File 'depth000212.png' deleted as it does not start with 'left'\n",
      "INFO:root:File 'depth000213.png' deleted as it does not start with 'left'\n",
      "INFO:root:File 'depth000214.png' deleted as it does not start with 'left'\n",
      "INFO:root:File 'depth000215.png' deleted as it does not start with 'left'\n",
      "INFO:root:File 'depth000216.png' deleted as it does not start with 'left'\n",
      "INFO:root:File 'depth000217.png' deleted as it does not start with 'left'\n",
      "INFO:root:File 'depth000218.png' deleted as it does not start with 'left'\n",
      "INFO:root:File 'depth000219.png' deleted as it does not start with 'left'\n",
      "INFO:root:File 'depth000220.png' deleted as it does not start with 'left'\n",
      "INFO:root:File 'depth000221.png' deleted as it does not start with 'left'\n",
      "INFO:root:File 'depth000222.png' deleted as it does not start with 'left'\n",
      "INFO:root:File 'depth000223.png' deleted as it does not start with 'left'\n",
      "INFO:root:File 'depth000224.png' deleted as it does not start with 'left'\n",
      "INFO:root:File 'depth000225.png' deleted as it does not start with 'left'\n",
      "INFO:root:File 'depth000226.png' deleted as it does not start with 'left'\n",
      "INFO:root:File 'depth000227.png' deleted as it does not start with 'left'\n",
      "INFO:root:File 'depth000228.png' deleted as it does not start with 'left'\n",
      "INFO:root:File 'depth000229.png' deleted as it does not start with 'left'\n",
      "INFO:root:File 'depth000230.png' deleted as it does not start with 'left'\n",
      "INFO:root:File 'depth000231.png' deleted as it does not start with 'left'\n",
      "INFO:root:File 'depth000232.png' deleted as it does not start with 'left'\n",
      "INFO:root:File 'depth000233.png' deleted as it does not start with 'left'\n",
      "INFO:root:File 'depth000234.png' deleted as it does not start with 'left'\n",
      "INFO:root:File 'depth000235.png' deleted as it does not start with 'left'\n",
      "INFO:root:File 'depth000236.png' deleted as it does not start with 'left'\n",
      "INFO:root:File 'depth000237.png' deleted as it does not start with 'left'\n",
      "INFO:root:File 'depth000238.png' deleted as it does not start with 'left'\n",
      "INFO:root:File 'depth000239.png' deleted as it does not start with 'left'\n",
      "INFO:root:File 'depth000240.png' deleted as it does not start with 'left'\n",
      "INFO:root:File 'depth000241.png' deleted as it does not start with 'left'\n",
      "INFO:root:File 'depth000242.png' deleted as it does not start with 'left'\n",
      "INFO:root:File 'depth000243.png' deleted as it does not start with 'left'\n",
      "INFO:root:File 'depth000244.png' deleted as it does not start with 'left'\n",
      "INFO:root:File 'depth000245.png' deleted as it does not start with 'left'\n",
      "INFO:root:File 'depth000246.png' deleted as it does not start with 'left'\n",
      "INFO:root:File 'depth000247.png' deleted as it does not start with 'left'\n",
      "INFO:root:File 'depth000248.png' deleted as it does not start with 'left'\n",
      "INFO:root:File 'depth000249.png' deleted as it does not start with 'left'\n",
      "INFO:root:File 'depth000250.png' deleted as it does not start with 'left'\n",
      "INFO:root:File 'depth000251.png' deleted as it does not start with 'left'\n",
      "INFO:root:File 'depth000252.png' deleted as it does not start with 'left'\n",
      "INFO:root:File 'depth000253.png' deleted as it does not start with 'left'\n",
      "INFO:root:File 'depth000254.png' deleted as it does not start with 'left'\n",
      "INFO:root:File 'depth000255.png' deleted as it does not start with 'left'\n",
      "INFO:root:File 'depth000256.png' deleted as it does not start with 'left'\n",
      "INFO:root:File 'depth000257.png' deleted as it does not start with 'left'\n",
      "INFO:root:File 'depth000258.png' deleted as it does not start with 'left'\n",
      "INFO:root:File 'depth000259.png' deleted as it does not start with 'left'\n",
      "INFO:root:File 'depth000260.png' deleted as it does not start with 'left'\n",
      "INFO:root:File 'depth000261.png' deleted as it does not start with 'left'\n",
      "INFO:root:File 'depth000262.png' deleted as it does not start with 'left'\n",
      "INFO:root:File 'depth000263.png' deleted as it does not start with 'left'\n",
      "INFO:root:File 'depth000264.png' deleted as it does not start with 'left'\n",
      "INFO:root:File 'depth000265.png' deleted as it does not start with 'left'\n",
      "INFO:root:File 'depth000266.png' deleted as it does not start with 'left'\n",
      "INFO:root:File 'depth000267.png' deleted as it does not start with 'left'\n",
      "INFO:root:File 'depth000268.png' deleted as it does not start with 'left'\n",
      "INFO:root:File 'depth000269.png' deleted as it does not start with 'left'\n",
      "INFO:root:File 'depth000270.png' deleted as it does not start with 'left'\n",
      "INFO:root:File 'depth000271.png' deleted as it does not start with 'left'\n",
      "INFO:root:File 'depth000272.png' deleted as it does not start with 'left'\n",
      "INFO:root:File 'depth000273.png' deleted as it does not start with 'left'\n",
      "INFO:root:File 'depth000274.png' deleted as it does not start with 'left'\n",
      "INFO:root:File 'depth000275.png' deleted as it does not start with 'left'\n",
      "INFO:root:File 'depth000276.png' deleted as it does not start with 'left'\n",
      "INFO:root:File 'depth000277.png' deleted as it does not start with 'left'\n",
      "INFO:root:File 'depth000278.png' deleted as it does not start with 'left'\n",
      "INFO:root:File 'depth000279.png' deleted as it does not start with 'left'\n",
      "INFO:root:File 'depth000280.png' deleted as it does not start with 'left'\n",
      "INFO:root:File 'depth000281.png' deleted as it does not start with 'left'\n",
      "INFO:root:File 'depth000282.png' deleted as it does not start with 'left'\n",
      "INFO:root:File 'depth000283.png' deleted as it does not start with 'left'\n",
      "INFO:root:File 'depth000284.png' deleted as it does not start with 'left'\n",
      "INFO:root:File 'depth000285.png' deleted as it does not start with 'left'\n",
      "INFO:root:File 'depth000286.png' deleted as it does not start with 'left'\n",
      "INFO:root:File 'depth000287.png' deleted as it does not start with 'left'\n",
      "INFO:root:File 'depth000288.png' deleted as it does not start with 'left'\n",
      "INFO:root:File 'depth000289.png' deleted as it does not start with 'left'\n",
      "INFO:root:File 'depth000290.png' deleted as it does not start with 'left'\n",
      "INFO:root:File 'depth000291.png' deleted as it does not start with 'left'\n",
      "INFO:root:File 'depth000292.png' deleted as it does not start with 'left'\n",
      "INFO:root:File 'depth000293.png' deleted as it does not start with 'left'\n",
      "INFO:root:File 'depth000294.png' deleted as it does not start with 'left'\n",
      "INFO:root:File 'depth000295.png' deleted as it does not start with 'left'\n",
      "INFO:root:File 'depth000296.png' deleted as it does not start with 'left'\n",
      "INFO:root:File 'depth000297.png' deleted as it does not start with 'left'\n",
      "INFO:root:File 'depth000298.png' deleted as it does not start with 'left'\n",
      "INFO:root:File 'depth000299.png' deleted as it does not start with 'left'\n",
      "INFO:root:File 'depth000300.png' deleted as it does not start with 'left'\n",
      "INFO:root:File 'depth000301.png' deleted as it does not start with 'left'\n",
      "INFO:root:File 'depth000302.png' deleted as it does not start with 'left'\n",
      "INFO:root:File 'depth000303.png' deleted as it does not start with 'left'\n",
      "INFO:root:File 'depth000304.png' deleted as it does not start with 'left'\n",
      "INFO:root:File 'depth000305.png' deleted as it does not start with 'left'\n",
      "INFO:root:File 'depth000306.png' deleted as it does not start with 'left'\n",
      "INFO:root:File 'depth000307.png' deleted as it does not start with 'left'\n",
      "INFO:root:File 'depth000308.png' deleted as it does not start with 'left'\n",
      "INFO:root:File 'depth000309.png' deleted as it does not start with 'left'\n",
      "INFO:root:File 'depth000310.png' deleted as it does not start with 'left'\n",
      "INFO:root:File 'depth000311.png' deleted as it does not start with 'left'\n",
      "INFO:root:File 'depth000312.png' deleted as it does not start with 'left'\n",
      "INFO:root:File 'depth000313.png' deleted as it does not start with 'left'\n",
      "INFO:root:File 'depth000314.png' deleted as it does not start with 'left'\n",
      "INFO:root:File 'depth000315.png' deleted as it does not start with 'left'\n",
      "INFO:root:File 'depth000316.png' deleted as it does not start with 'left'\n",
      "INFO:root:File 'depth000317.png' deleted as it does not start with 'left'\n",
      "INFO:root:File 'depth000318.png' deleted as it does not start with 'left'\n",
      "INFO:root:File 'depth000319.png' deleted as it does not start with 'left'\n",
      "INFO:root:File 'depth000320.png' deleted as it does not start with 'left'\n"
     ]
    },
    {
     "name": "stdout",
     "output_type": "stream",
     "text": [
      ".svo file 'f_HQ059_rec0.svo' exported and saved in 'C:/Users/user/Downloads/file2\\f_HQ059_rec0'\n"
     ]
    }
   ],
   "source": [
    "directory_path = 'C:/Users/user/Downloads/file'\n",
    "create_folders_and_export_videos(directory_path)"
   ]
  },
  {
   "cell_type": "markdown",
   "metadata": {},
   "source": [
    "### Convert to Grayscale"
   ]
  },
  {
   "cell_type": "code",
   "execution_count": 4,
   "metadata": {},
   "outputs": [],
   "source": [
    "from matplotlib import pyplot as plt\n",
    "import cv2\n",
    "import numpy as np"
   ]
  },
  {
   "cell_type": "code",
   "execution_count": 5,
   "metadata": {},
   "outputs": [],
   "source": [
    "def convertToGrayScale(directory_path):\n",
    "    # List all frames of the video in the folder with the specified directory_path\n",
    "    videoFrames = [frame for frame in os.listdir(directory_path)]       # name of file\n",
    "\n",
    "    # List all \n",
    "    grayImagesList = [] \n",
    "    for frame in videoFrames:\n",
    "        frame_path = os.path.join(directory_path, frame)\n",
    "        grayImage = cv2.imread(frame_path, cv2.IMREAD_GRAYSCALE)\n",
    "        grayImagesList.append(grayImage.astype(np.int16))\n",
    "\n",
    "    return grayImagesList"
   ]
  },
  {
   "cell_type": "code",
   "execution_count": 64,
   "metadata": {},
   "outputs": [],
   "source": [
    "# directory_path = 'C:/Users/user/Downloads/file2/f_AS069_rec0/'\n",
    "directory_path = 'C:/Users/user/Downloads/file2/f_HQ059_rec0/'\n",
    "grayImagesList = convertToGrayScale(directory_path)"
   ]
  },
  {
   "cell_type": "code",
   "execution_count": 7,
   "metadata": {},
   "outputs": [
    {
     "data": {
      "text/plain": [
       "numpy.dtype[int16]"
      ]
     },
     "execution_count": 7,
     "metadata": {},
     "output_type": "execute_result"
    }
   ],
   "source": [
    "type(grayImagesList[0].dtype)"
   ]
  },
  {
   "cell_type": "markdown",
   "metadata": {},
   "source": [
    "### Directional ATD"
   ]
  },
  {
   "cell_type": "markdown",
   "metadata": {},
   "source": [
    "##### The process of ATD involves using thresholds to set insignificant differences of pixel values to 0. Insignificant differences represent minimal to no change in motion between two frames. For the difference of any two frames in a sequence, extreme or ‘noise’ values are set to 0 to reduce the effect on the average pixel value. For example, absolute values below 13 can be set to 0 and thoseabove 13 are kept as is. Afterwards, the average of the pixel values μ of the differenced frame is taken and used as the threshold for setting insignificant differences to 0 and significant ones to 1. This process, known as binarization, is performed for every pair of sequential frames. Once complete, the values of all differences are accumulated, resulting in one frame with pixel values indicating significant change in motion over a sequence of time."
   ]
  },
  {
   "cell_type": "code",
   "execution_count": 8,
   "metadata": {},
   "outputs": [],
   "source": [
    "from matplotlib import pyplot as plt \n",
    "import numpy as np"
   ]
  },
  {
   "cell_type": "code",
   "execution_count": 9,
   "metadata": {},
   "outputs": [],
   "source": [
    "def performThreshold(diffFrame):\n",
    "    mask = (diffFrame < 13) & (diffFrame > -13)\n",
    "    diffFrame[mask] = 0\n",
    "    return diffFrame"
   ]
  },
  {
   "cell_type": "code",
   "execution_count": 10,
   "metadata": {},
   "outputs": [],
   "source": [
    "def binarize(noiseless_image):\n",
    "    mean = np.mean(noiseless_image)\n",
    "    maskZeroes = (noiseless_image < mean)\n",
    "    maskOnes = (noiseless_image >= mean)\n",
    "    binarizedImage = noiseless_image\n",
    "    binarizedImage[maskZeroes] = 0\n",
    "    binarizedImage[maskOnes] = 1\n",
    "    return binarizedImage"
   ]
  },
  {
   "cell_type": "code",
   "execution_count": 11,
   "metadata": {},
   "outputs": [],
   "source": [
    "def accumulateFrames(framesList):\n",
    "    accumulatedFrame = framesList[0]\n",
    "\n",
    "    for i in range(1, len(framesList)):\n",
    "        accumulatedFrame += framesList[i]\n",
    "    \n",
    "    return accumulatedFrame"
   ]
  },
  {
   "cell_type": "code",
   "execution_count": 12,
   "metadata": {},
   "outputs": [],
   "source": [
    "def applyForwardDiff(grayImagesList):\n",
    "    listOfFrames = []\n",
    "\n",
    "    for index in range(len(grayImagesList) - 1):\n",
    "        forward_ImageDiff = grayImagesList[index] - grayImagesList[index + 1]\n",
    "        forward_ImageDiff = performThreshold(forward_ImageDiff)\n",
    "        binarizedImage = binarize(forward_ImageDiff)             \n",
    "        listOfFrames.append(binarizedImage)\n",
    "    \n",
    "    return accumulateFrames(listOfFrames)"
   ]
  },
  {
   "cell_type": "code",
   "execution_count": 13,
   "metadata": {},
   "outputs": [],
   "source": [
    "def applyBackwardDiff(grayImagesList):\n",
    "    listOfFrames = []\n",
    "\n",
    "    for index in range(1, len(grayImagesList)):\n",
    "        backward_ImageDiff = grayImagesList[index] - grayImagesList[index - 1]\n",
    "        backward_ImageDiff = performThreshold(backward_ImageDiff)\n",
    "        binarizedImage = binarize(backward_ImageDiff) \n",
    "        listOfFrames.append(binarizedImage)\n",
    "    \n",
    "    return accumulateFrames(listOfFrames)"
   ]
  },
  {
   "cell_type": "code",
   "execution_count": 14,
   "metadata": {},
   "outputs": [],
   "source": [
    "def applyBiDirectionalDiff(grayImagesList):\n",
    "    listOfFrames = []\n",
    "\n",
    "    for index in range(1, len(grayImagesList)-1):\n",
    "        average_frame = np.mean([grayImagesList[index - 1], grayImagesList[index + 1]], axis=0)\n",
    "        bidirectional_ImageDiff = grayImagesList[index] - average_frame\n",
    "        bidirectional_ImageDiff = performThreshold(bidirectional_ImageDiff)\n",
    "        binarizedImage = binarize(bidirectional_ImageDiff)\n",
    "        listOfFrames.append(binarizedImage)\n",
    "    \n",
    "    return accumulateFrames(listOfFrames)"
   ]
  },
  {
   "cell_type": "code",
   "execution_count": 41,
   "metadata": {},
   "outputs": [],
   "source": [
    "def applyATD(frames):\n",
    "    forwardATD = applyForwardDiff(frames)\n",
    "    backwardATD = applyBackwardDiff(frames)\n",
    "    bidirectATD = applyBiDirectionalDiff(frames)\n",
    "    \n",
    "    return [forwardATD, backwardATD, bidirectATD]"
   ]
  },
  {
   "cell_type": "code",
   "execution_count": 66,
   "metadata": {},
   "outputs": [],
   "source": [
    "noFrames = len(grayImagesList)\n",
    "noWords = 1\n",
    "split = noFrames // noWords"
   ]
  },
  {
   "cell_type": "code",
   "execution_count": 67,
   "metadata": {},
   "outputs": [],
   "source": [
    "# imageATDs = []\n",
    "# for i in range(noWords):\n",
    "#     index = split * i\n",
    "#     imageATDs.append(applyATD(grayImagesList[index: index + split]))"
   ]
  },
  {
   "cell_type": "code",
   "execution_count": 68,
   "metadata": {},
   "outputs": [],
   "source": [
    "forwardATD = applyForwardDiff(grayImagesList)\n",
    "backwardATD = applyBackwardDiff(grayImagesList)\n",
    "bidirectATD = applyBiDirectionalDiff(grayImagesList)"
   ]
  },
  {
   "cell_type": "code",
   "execution_count": 69,
   "metadata": {},
   "outputs": [
    {
     "name": "stdout",
     "output_type": "stream",
     "text": [
      "Forward ATD:  [[158 158 158 ... 158 158 158]\n",
      " [158 158 158 ... 158 158 158]\n",
      " [158 158 158 ... 158 158 158]\n",
      " ...\n",
      " [158 158 158 ... 158 158 158]\n",
      " [158 158 158 ... 158 158 158]\n",
      " [158 158 158 ... 158 158 158]]\n",
      "Backward ATD:  [[162 162 162 ... 162 162 162]\n",
      " [162 162 162 ... 162 162 162]\n",
      " [162 162 162 ... 162 162 162]\n",
      " ...\n",
      " [162 162 162 ... 162 162 162]\n",
      " [162 162 162 ... 162 162 162]\n",
      " [162 162 162 ... 162 162 162]]\n",
      "Bidirectional ATD [[188. 188. 188. ... 188. 188. 188.]\n",
      " [188. 188. 188. ... 188. 188. 188.]\n",
      " [188. 188. 188. ... 188. 188. 188.]\n",
      " ...\n",
      " [188. 188. 188. ... 188. 188. 188.]\n",
      " [188. 188. 188. ... 188. 188. 188.]\n",
      " [188. 188. 188. ... 188. 188. 188.]]\n"
     ]
    }
   ],
   "source": [
    "print(\"Forward ATD: \", forwardATD)\n",
    "print(\"Backward ATD: \", backwardATD)\n",
    "print(\"Bidirectional ATD\", bidirectATD)"
   ]
  },
  {
   "cell_type": "code",
   "execution_count": 70,
   "metadata": {},
   "outputs": [
    {
     "data": {
      "text/plain": [
       "(-0.5, 1279.5, 719.5, -0.5)"
      ]
     },
     "execution_count": 70,
     "metadata": {},
     "output_type": "execute_result"
    },
    {
     "data": {
      "image/png": "[encoded data removed]",
      "text/plain": [
       "<Figure size 1000x1000 with 3 Axes>"
      ]
     },
     "metadata": {},
     "output_type": "display_data"
    }
   ],
   "source": [
    "plt.figure(figsize = (10, 10))\n",
    "\n",
    "# for i in range(len(imageATDs)):\n",
    "#     for j in range(len(imageATDs[i])):\n",
    "#         size = len(imageATDs) * len(imageATDs[i])\n",
    "#         plt.subplot(i + 1, size, j + 1)\n",
    "#         plt.imshow(imageATDs[i][j], cmap = 'gray')\n",
    "#         plt.axis('off')\n",
    "\n",
    "plt.subplot(1, 3, 1)\n",
    "plt.imshow(forwardATD, cmap = 'gray')\n",
    "plt.title('Forward ATD')\n",
    "plt.axis('off')\n",
    "\n",
    "plt.subplot(1, 3, 2)\n",
    "plt.imshow(backwardATD, cmap = 'gray')\n",
    "plt.title('Backward ATD')\n",
    "plt.axis('off')\n",
    "\n",
    "plt.subplot(1, 3, 3)\n",
    "plt.imshow(bidirectATD, cmap = 'gray')\n",
    "plt.title('Bidirectional ATD')\n",
    "plt.axis('off')"
   ]
  },
  {
   "cell_type": "code",
   "execution_count": 77,
   "metadata": {},
   "outputs": [],
   "source": [
    "image_with_ATD = np.dstack([forwardATD, backwardATD, bidirectATD])"
   ]
  },
  {
   "cell_type": "code",
   "execution_count": 73,
   "metadata": {},
   "outputs": [
    {
     "name": "stderr",
     "output_type": "stream",
     "text": [
      "WARNING:matplotlib.image:Clipping input data to the valid range for imshow with RGB data ([0..1] for floats or [0..255] for integers).\n"
     ]
    },
    {
     "data": {
      "text/plain": [
       "(-0.5, 1279.5, 719.5, -0.5)"
      ]
     },
     "execution_count": 73,
     "metadata": {},
     "output_type": "execute_result"
    },
    {
     "data": {
      "image/png": "[encoded data removed]",
      "text/plain": [
       "<Figure size 800x600 with 1 Axes>"
      ]
     },
     "metadata": {},
     "output_type": "display_data"
    }
   ],
   "source": [
    "plt.figure(figsize = (8, 6))\n",
    "plt.imshow(image_with_ATD)\n",
    "plt.axis('off')"
   ]
  }
 ],
 "metadata": {
  "kernelspec": {
   "display_name": "Python 3",
   "language": "python",
   "name": "python3"
  },
  "language_info": {
   "codemirror_mode": {
    "name": "ipython",
    "version": 3
   },
   "file_extension": ".py",
   "mimetype": "text/x-python",
   "name": "python",
   "nbconvert_exporter": "python",
   "pygments_lexer": "ipython3",
   "version": "3.11.8"
  }
 },
 "nbformat": 4,
 "nbformat_minor": 2
}
