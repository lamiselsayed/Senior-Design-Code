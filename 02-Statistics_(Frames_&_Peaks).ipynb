{
 "cells": [
  {
   "cell_type": "code",
   "execution_count": 1,
   "metadata": {},
   "outputs": [],
   "source": [
    "import os\n",
    "import cv2\n",
    "import pandas as pd"
   ]
  },
  {
   "cell_type": "code",
   "execution_count": 2,
   "metadata": {},
   "outputs": [],
   "source": [
    "path_1word = \"C:/Users/user/OneDrive/Desktop/JUMLA-QSL-22 (Backup)/1 word\"\n",
    "path_2words = \"C:/Users/user/OneDrive/Desktop/JUMLA-QSL-22 (Backup)/2 words\"\n",
    "path_3words = \"C:/Users/user/OneDrive/Desktop/JUMLA-QSL-22 (Backup)/3 words\"\n",
    "path_4words = \"C:/Users/user/OneDrive/Desktop/JUMLA-QSL-22 (Backup)/4 words\"\n",
    "path_5words = \"C:/Users/user/OneDrive/Desktop/JUMLA-QSL-22 (Backup)/5 words\""
   ]
  },
  {
   "cell_type": "code",
   "execution_count": 5,
   "metadata": {},
   "outputs": [],
   "source": [
    "# TODO: change the path to 1 word, 2 words, 3 words...etc.\n",
    "# directory_path = path_1word\n",
    "# directory_path = path_2words\n",
    "directory_path = path_3words\n",
    "# directory_path = path_4words\n",
    "# directory_path = path_5words"
   ]
  },
  {
   "cell_type": "markdown",
   "metadata": {},
   "source": [
    "### Getting the number of Frames"
   ]
  },
  {
   "cell_type": "code",
   "execution_count": 8,
   "metadata": {},
   "outputs": [],
   "source": [
    "# Method 1: How long the videos are\n",
    "    # Number of frames\n",
    "    \n",
    "def get_number_of_frames(directory_path):\n",
    "    frame_counts = {}\n",
    "    folders = [folder for folder in os.listdir(directory_path)]         # list of all folders (participants) \n",
    "\n",
    "    for folder in folders:\n",
    "        folder_path = os.path.join(directory_path, folder)\n",
    "        svo_files = [file for file in os.listdir(folder_path) if file.lower().endswith('.svo')]     # list of all video files for each participant\n",
    "        for svo_file in svo_files:\n",
    "            video_path = os.path.join(folder_path, svo_file)\n",
    "            \n",
    "            cap = cv2.VideoCapture(video_path)      # cv2.VideoCapture --> works with both video files and capturing videos from a camera   \n",
    "                                                    #       takes in a video file path or the index of the camera\n",
    "                                                    # cap object provides methods to access frames from the video \n",
    "                                                    # can also access properties of the video (width, height, and frames per second (fps))\n",
    "            try:\n",
    "                num_frames = 0\n",
    "                while True:\n",
    "                    ret, frame = cap.read()             # cap.read() --> read the next frame\n",
    "                                                        #       ret -- was the frame successfully read? T/F\n",
    "                                                        #       frame -- actual frame data\n",
    "                    if not ret:\n",
    "                        break\n",
    "                    num_frames += 1\n",
    "        \n",
    "                frame_counts[svo_file] = num_frames\n",
    "                \n",
    "            except Exception as e:\n",
    "                print(f\"Error Processing {video_path}: {str(e)}\")\n",
    "            \n",
    "            finally:\n",
    "                cap.release()                           # release resources\n",
    "\n",
    "    return frame_counts\n",
    "\n",
    "\n",
    "def save_to_excel(frame_counts, output_file):\n",
    "    df = pd.DataFrame(list(frame_counts.items()), columns=['Video', 'Number of Frames'])\n",
    "    df.to_excel(output_file, index=False)"
   ]
  },
  {
   "cell_type": "code",
   "execution_count": 43,
   "metadata": {},
   "outputs": [
    {
     "name": "stdout",
     "output_type": "stream",
     "text": [
      "Frame counts saved to C:/Users/user/OneDrive/Desktop/AUS/4. Senior Year/Spring 2024/Senior Design II/Senior-Design-Code/Dataset Excel Sheets/frames_counts_1word.xlsx\n"
     ]
    }
   ],
   "source": [
    "output_excel_1word = \"C:/Users/user/OneDrive/Desktop/AUS/4. Senior Year/Spring 2024/Senior Design II/Senior-Design-Code/Dataset Excel Sheets/frames_counts_1word.xlsx\"\n",
    "save_to_excel(get_number_of_frames(directory_path), output_excel_1word)\n",
    "\n",
    "print(f\"Frame counts saved to {output_excel_1word}\")"
   ]
  },
  {
   "cell_type": "code",
   "execution_count": 9,
   "metadata": {},
   "outputs": [
    {
     "name": "stdout",
     "output_type": "stream",
     "text": [
      "Frame counts saved to C:/Users/user/OneDrive/Desktop/AUS/4. Senior Year/Spring 2024/Senior Design II/Senior-Design-Code/Dataset Excel Sheets/frames_counts_3words_new.xlsx\n"
     ]
    }
   ],
   "source": [
    "output_excel_3words = \"C:/Users/user/OneDrive/Desktop/AUS/4. Senior Year/Spring 2024/Senior Design II/Senior-Design-Code/Dataset Excel Sheets/frames_counts_3words_new.xlsx\"\n",
    "save_to_excel(get_number_of_frames(directory_path), output_excel_3words)\n",
    "\n",
    "print(f\"Frame counts saved to {output_excel_3words}\")"
   ]
  }
 ],
 "metadata": {
  "kernelspec": {
   "display_name": "Python 3",
   "language": "python",
   "name": "python3"
  },
  "language_info": {
   "codemirror_mode": {
    "name": "ipython",
    "version": 3
   },
   "file_extension": ".py",
   "mimetype": "text/x-python",
   "name": "python",
   "nbconvert_exporter": "python",
   "pygments_lexer": "ipython3",
   "version": "3.11.8"
  }
 },
 "nbformat": 4,
 "nbformat_minor": 2
}
