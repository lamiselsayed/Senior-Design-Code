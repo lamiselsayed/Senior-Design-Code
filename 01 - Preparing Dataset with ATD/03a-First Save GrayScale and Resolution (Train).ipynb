{
 "cells": [
  {
   "cell_type": "code",
   "execution_count": 1,
   "metadata": {},
   "outputs": [],
   "source": [
    "import cv2\n",
    "import os\n",
    "import logging\n",
    "import numpy as np\n",
    "from scipy.ndimage import zoom\n",
    "from PIL import Image"
   ]
  },
  {
   "cell_type": "markdown",
   "metadata": {},
   "source": []
  },
  {
   "cell_type": "markdown",
   "metadata": {},
   "source": [
    "NOT SAVING FRAMES, JUST PUT IN LIST"
   ]
  },
  {
   "cell_type": "code",
   "execution_count": 2,
   "metadata": {},
   "outputs": [],
   "source": [
    "def convert_to_frame(input_video_path):\n",
    "    frames_list = []\n",
    "    video_capture = cv2.VideoCapture(input_video_path)    \n",
    "    fps = int(video_capture.get(cv2.CAP_PROP_FPS))\n",
    "    frame_count = int(video_capture.get(cv2.CAP_PROP_FRAME_COUNT))\n",
    "    for frame_number in range(frame_count):\n",
    "        ret, frame = video_capture.read()\n",
    "        if not ret:\n",
    "            break\n",
    "\n",
    "        img = Image.fromarray(frame)\n",
    "        resized_img = img.resize((960,540), Image.LANCZOS) # cut the resolution by half first, then later crop the stacks\n",
    "        frame = np.array(resized_img)\n",
    "\n",
    "        frames_list.append(frame)\n",
    "\n",
    "    video_capture.release()\n",
    "    return frames_list\n"
   ]
  },
  {
   "cell_type": "markdown",
   "metadata": {},
   "source": [
    "COVERT LIST TO SAVED GRAYSCALE"
   ]
  },
  {
   "cell_type": "code",
   "execution_count": 3,
   "metadata": {},
   "outputs": [],
   "source": [
    "def convertListToGrayScale(videoFrames, output_directory):\n",
    "\n",
    "    for frame_number, frame in enumerate(videoFrames):\n",
    "        grayImage = cv2.cvtColor(frame, cv2.COLOR_BGR2GRAY)\n",
    "        output_path = os.path.join(output_directory, f\"gray_frame_{frame_number:04d}.jpg\")\n",
    "        cv2.imwrite(output_path, grayImage)\n",
    "        \n",
    "    logging.info(f\"video images '{output_directory[-10:]}' converted to grayscale and saved in '{output_directory}'\")"
   ]
  },
  {
   "cell_type": "markdown",
   "metadata": {},
   "source": [
    "MAIN FOR LIST FRAMES AND SAVED GRAY"
   ]
  },
  {
   "cell_type": "code",
   "execution_count": 4,
   "metadata": {},
   "outputs": [
    {
     "data": {
      "text/plain": [
       "' To run on MAC only\\ndataset_path = r\"/Users/mariambinghalib/Desktop/CMP491 Senior Design/new_dataset\"           # Path to the whole Dataset Folder\\nfolders = [participant for participant in os.listdir(dataset_path)]                         # List of participants\\n\\nfor participant in folders:\\n    train_path = os.path.join(dataset_path, participant, \\'train\\')                           # Path to the training data for each participant\\n    \\n    # Check if train_path exists and is a directory\\n    if not os.path.isdir(train_path):\\n        print(f\"Error: {train_path} is not a valid directory\")\\n        continue\\n    \\n    for sentence_folder in os.listdir(train_path):\\n        sentence_path = os.path.join(train_path, sentence_folder)                            # Path to a folder for one sentence\\n        \\n        # Check if sentence_path exists and is a directory\\n        if not os.path.isdir(sentence_path):\\n            print(f\"Error: {sentence_path} is not a valid directory\")\\n            continue\\n        \\n        for video in os.listdir(sentence_path):\\n            input_video_path = os.path.join(sentence_path, video)                            # Path of the individual video\\n            \\n            # Check if input_video_path exists and is a file\\n            if not os.path.isfile(input_video_path):\\n                print(f\"Error: {input_video_path} is not a valid file\")\\n                continue\\n            \\n            video_name = os.path.splitext(os.path.basename(video))[0]                       # Video name without extension\\n            output_folder = os.path.join(sentence_path, video_name)                         # Output folder to store the frames\\n            \\n            # Creates output folder if it doesn\\'t exist\\n            if not os.path.exists(output_folder):\\n                os.makedirs(output_folder)\\n            \\n            # Assuming convert_to_frame and convertListToGrayScale are defined elsewhere\\n            list_of_frames = convert_to_frame(input_video_path)                             # Save all frames as images\\n            convertListToGrayScale(list_of_frames, output_folder)\\n'"
      ]
     },
     "execution_count": 4,
     "metadata": {},
     "output_type": "execute_result"
    }
   ],
   "source": [
    "dataset_path = r\"C:\\Users\\user\\Downloads\\ArabSign Dataset\"           # path to whole Dataset Folder\n",
    "folders = [participant for participant in os.listdir(dataset_path)]                         # each 6 participents\n",
    "for participant in folders:                                                 \n",
    "    train_path = os.path.join(dataset_path, participant, 'train')                           # directly open the train for each participant\n",
    "    for sentence_folder in os.listdir(train_path):\n",
    "        sentence_path = os.path.join(train_path, sentence_folder)                           # get the path to a folder for one sentence\n",
    "        for video in os.listdir(sentence_path):                                             # for every training video in that sentence folder\n",
    "            input_video_path = os.path.join(sentence_path, video)                           # input is the path of the individual video\n",
    "            video_name = os.path.splitext(os.path.basename(video))[0]                       # using the same name as the video (without .mp4 as the output folder name)\n",
    "            output_folder = os.path.join(sentence_path, video_name)                         # create the output folder to store the frames\n",
    "            if not os.path.exists(output_folder):\n",
    "                os.makedirs(output_folder)\n",
    "            list_of_frames = convert_to_frame(input_video_path)                              # saves all frames as images\n",
    "            convertListToGrayScale(list_of_frames, output_folder)   \n",
    "\n",
    "''' To run on MAC only\n",
    "dataset_path = r\"/Users/mariambinghalib/Desktop/CMP491 Senior Design/new_dataset\"           # Path to the whole Dataset Folder\n",
    "folders = [participant for participant in os.listdir(dataset_path)]                         # List of participants\n",
    "\n",
    "for participant in folders:\n",
    "    train_path = os.path.join(dataset_path, participant, 'train')                           # Path to the training data for each participant\n",
    "    \n",
    "    # Check if train_path exists and is a directory\n",
    "    if not os.path.isdir(train_path):\n",
    "        print(f\"Error: {train_path} is not a valid directory\")\n",
    "        continue\n",
    "    \n",
    "    for sentence_folder in os.listdir(train_path):\n",
    "        sentence_path = os.path.join(train_path, sentence_folder)                            # Path to a folder for one sentence\n",
    "        \n",
    "        # Check if sentence_path exists and is a directory\n",
    "        if not os.path.isdir(sentence_path):\n",
    "            print(f\"Error: {sentence_path} is not a valid directory\")\n",
    "            continue\n",
    "        \n",
    "        for video in os.listdir(sentence_path):\n",
    "            input_video_path = os.path.join(sentence_path, video)                            # Path of the individual video\n",
    "            \n",
    "            # Check if input_video_path exists and is a file\n",
    "            if not os.path.isfile(input_video_path):\n",
    "                print(f\"Error: {input_video_path} is not a valid file\")\n",
    "                continue\n",
    "            \n",
    "            video_name = os.path.splitext(os.path.basename(video))[0]                       # Video name without extension\n",
    "            output_folder = os.path.join(sentence_path, video_name)                         # Output folder to store the frames\n",
    "            \n",
    "            # Creates output folder if it doesn't exist\n",
    "            if not os.path.exists(output_folder):\n",
    "                os.makedirs(output_folder)\n",
    "            \n",
    "            # Assuming convert_to_frame and convertListToGrayScale are defined elsewhere\n",
    "            list_of_frames = convert_to_frame(input_video_path)                             # Save all frames as images\n",
    "            convertListToGrayScale(list_of_frames, output_folder)\n",
    "'''"
   ]
  }
 ],
 "metadata": {
  "kernelspec": {
   "display_name": "base",
   "language": "python",
   "name": "python3"
  },
  "language_info": {
   "codemirror_mode": {
    "name": "ipython",
    "version": 3
   },
   "file_extension": ".py",
   "mimetype": "text/x-python",
   "name": "python",
   "nbconvert_exporter": "python",
   "pygments_lexer": "ipython3",
   "version": "3.11.5"
  }
 },
 "nbformat": 4,
 "nbformat_minor": 2
}
