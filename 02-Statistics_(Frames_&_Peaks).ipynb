{
 "cells": [
  {
   "cell_type": "code",
   "execution_count": 36,
   "metadata": {},
   "outputs": [],
   "source": [
    "import os\n",
    "import cv2\n",
    "import pandas as pd"
   ]
  },
  {
   "cell_type": "code",
   "execution_count": 39,
   "metadata": {},
   "outputs": [],
   "source": [
    "path_1word = \"C:/Users/user/OneDrive/Desktop/JUMLA-QSL-22 (Backup)/1 word\"\n",
    "path_2words = \"C:/Users/user/OneDrive/Desktop/JUMLA-QSL-22 (Backup)/2 words\"\n",
    "path_3words = \"C:/Users/user/OneDrive/Desktop/JUMLA-QSL-22 (Backup)/3 words\"\n",
    "path_4words = \"C:/Users/user/OneDrive/Desktop/JUMLA-QSL-22 (Backup)/4 words\"\n",
    "path_5words = \"C:/Users/user/OneDrive/Desktop/JUMLA-QSL-22 (Backup)/5 words\""
   ]
  },
  {
   "cell_type": "code",
   "execution_count": 40,
   "metadata": {},
   "outputs": [],
   "source": [
    "# TODO: change the path to 1 word, 2 words, 3 words...etc.\n",
    "directory_path = path_1word"
   ]
  },
  {
   "cell_type": "markdown",
   "metadata": {},
   "source": [
    "### Getting the number of Frames"
   ]
  },
  {
   "cell_type": "code",
   "execution_count": 42,
   "metadata": {},
   "outputs": [],
   "source": [
    "# Method 1: How long the videos are\n",
    "    # Number of frames\n",
    "    \n",
    "def get_number_of_frames(directory_path):\n",
    "    frame_counts = {}\n",
    "    folders = [folder for folder in os.listdir(directory_path)]\n",
    "\n",
    "    for folder in folders:\n",
    "        folder_path = os.path.join(directory_path, folder)\n",
    "        svo_files = [file for file in os.listdir(folder_path) if file.lower().endswith('.svo')]\n",
    "        for svo_file in svo_files:\n",
    "            video_path = os.path.join(folder_path, svo_file)\n",
    "            \n",
    "            cap = cv2.VideoCapture(video_path)\n",
    "\n",
    "            num_frames = 0\n",
    "            while True:\n",
    "                ret, frame = cap.read()\n",
    "                if not ret:\n",
    "                    break\n",
    "                num_frames += 1\n",
    "            \n",
    "            frame_counts[svo_file] = num_frames\n",
    "                \n",
    "            cap.release()\n",
    "\n",
    "    return frame_counts\n",
    "\n",
    "\n",
    "def save_to_excel(frame_counts, output_file):\n",
    "    df = pd.DataFrame(list(frame_counts.items()), columns=['Video', 'Number of Frames'])\n",
    "    df.to_excel(output_file, index=False)"
   ]
  },
  {
   "cell_type": "code",
   "execution_count": 43,
   "metadata": {},
   "outputs": [
    {
     "name": "stdout",
     "output_type": "stream",
     "text": [
      "Frame counts saved to C:/Users/user/OneDrive/Desktop/AUS/4. Senior Year/Spring 2024/Senior Design II/Senior-Design-Code/Dataset Excel Sheets/frames_counts_1word.xlsx\n"
     ]
    }
   ],
   "source": [
    "output_excel_1word = \"C:/Users/user/OneDrive/Desktop/AUS/4. Senior Year/Spring 2024/Senior Design II/Senior-Design-Code/Dataset Excel Sheets/frames_counts_1word.xlsx\"\n",
    "save_to_excel(get_number_of_frames(directory_path), output_excel_1word)\n",
    "\n",
    "print(f\"Frame counts saved to {output_excel_1word}\")"
   ]
  },
  {
   "cell_type": "code",
   "execution_count": null,
   "metadata": {},
   "outputs": [],
   "source": []
  }
 ],
 "metadata": {
  "kernelspec": {
   "display_name": "Python 3",
   "language": "python",
   "name": "python3"
  },
  "language_info": {
   "codemirror_mode": {
    "name": "ipython",
    "version": 3
   },
   "file_extension": ".py",
   "mimetype": "text/x-python",
   "name": "python",
   "nbconvert_exporter": "python",
   "pygments_lexer": "ipython3",
   "version": "3.11.8"
  }
 },
 "nbformat": 4,
 "nbformat_minor": 2
}
