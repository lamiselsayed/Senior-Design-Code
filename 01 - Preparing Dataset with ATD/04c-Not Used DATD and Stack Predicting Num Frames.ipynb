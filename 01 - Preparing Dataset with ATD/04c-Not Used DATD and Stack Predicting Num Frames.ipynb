{
 "cells": [
  {
   "cell_type": "markdown",
   "metadata": {},
   "source": [
    "### Read Videos & Convert to Frames"
   ]
  },
  {
   "cell_type": "code",
   "execution_count": 2,
   "metadata": {},
   "outputs": [],
   "source": [
    "import os\n",
    "#import logging\n",
    "#import subprocess\n",
    "import pandas as pd"
   ]
  },
  {
   "cell_type": "code",
   "execution_count": 3,
   "metadata": {},
   "outputs": [],
   "source": [
    "#logging.basicConfig(level=logging.INFO) "
   ]
  },
  {
   "cell_type": "markdown",
   "metadata": {},
   "source": [
    "### Convert to Grayscale"
   ]
  },
  {
   "cell_type": "code",
   "execution_count": 4,
   "metadata": {},
   "outputs": [],
   "source": [
    "from matplotlib import pyplot as plt\n",
    "import cv2\n",
    "import numpy as np"
   ]
  },
  {
   "cell_type": "markdown",
   "metadata": {},
   "source": [
    "### Directional ATD"
   ]
  },
  {
   "cell_type": "code",
   "execution_count": 5,
   "metadata": {},
   "outputs": [],
   "source": [
    "def performThreshold(diffFrame):\n",
    "    mask = (diffFrame < 13) & (diffFrame > -13)\n",
    "    diffFrame[mask] = 0\n",
    "    return diffFrame"
   ]
  },
  {
   "cell_type": "code",
   "execution_count": 6,
   "metadata": {},
   "outputs": [],
   "source": [
    "def binarize(noiseless_image):\n",
    "    mean = np.mean(noiseless_image)\n",
    "    maskZeroes = (noiseless_image < mean)\n",
    "    maskOnes = (noiseless_image >= mean)\n",
    "    binarizedImage = noiseless_image\n",
    "    binarizedImage[maskZeroes] = 0\n",
    "    binarizedImage[maskOnes] = 1\n",
    "    return binarizedImage"
   ]
  },
  {
   "cell_type": "code",
   "execution_count": 7,
   "metadata": {},
   "outputs": [],
   "source": [
    "def accumulateFrames(framesList):\n",
    "    accumulatedFrame = framesList[0]\n",
    "\n",
    "    for i in range(1, len(framesList)):\n",
    "        accumulatedFrame += framesList[i]\n",
    "    \n",
    "    return accumulatedFrame"
   ]
  },
  {
   "cell_type": "code",
   "execution_count": 8,
   "metadata": {},
   "outputs": [],
   "source": [
    "def applyForwardDiff(grayImagesList):\n",
    "    listOfFrames = []\n",
    "\n",
    "    for index in range(len(grayImagesList) - 1):\n",
    "        forward_ImageDiff = grayImagesList[index] - grayImagesList[index + 1]\n",
    "        forward_ImageDiff = performThreshold(forward_ImageDiff)\n",
    "        binarizedImage = binarize(forward_ImageDiff)        \n",
    "        listOfFrames.append(binarizedImage)\n",
    "    \n",
    "    return accumulateFrames(listOfFrames)"
   ]
  },
  {
   "cell_type": "code",
   "execution_count": 9,
   "metadata": {},
   "outputs": [],
   "source": [
    "def applyBackwardDiff(grayImagesList):\n",
    "    listOfFrames = []\n",
    "\n",
    "    for index in range(1, len(grayImagesList)):\n",
    "        backward_ImageDiff = grayImagesList[index] - grayImagesList[index - 1]\n",
    "        backward_ImageDiff = performThreshold(backward_ImageDiff)\n",
    "        binarizedImage = binarize(backward_ImageDiff) \n",
    "        listOfFrames.append(binarizedImage)\n",
    "    \n",
    "    return accumulateFrames(listOfFrames)"
   ]
  },
  {
   "cell_type": "code",
   "execution_count": 10,
   "metadata": {},
   "outputs": [],
   "source": [
    "def applyBiDirectionalDiff(grayImagesList):\n",
    "    listOfFrames = []\n",
    "\n",
    "    for index in range(1, len(grayImagesList)-1):\n",
    "        average_frame = np.mean([grayImagesList[index - 1], grayImagesList[index + 1]], axis=0)\n",
    "        bidirectional_ImageDiff = grayImagesList[index] - average_frame\n",
    "        bidirectional_ImageDiff = performThreshold(bidirectional_ImageDiff)\n",
    "        binarizedImage = binarize(bidirectional_ImageDiff)\n",
    "        listOfFrames.append(binarizedImage)\n",
    "    \n",
    "    return accumulateFrames(listOfFrames)"
   ]
  },
  {
   "cell_type": "code",
   "execution_count": 11,
   "metadata": {},
   "outputs": [],
   "source": [
    "def convertGrayScaletoList(input_directory):\n",
    "    gray_images = []\n",
    "\n",
    "    for filename in sorted(os.listdir(input_directory)):\n",
    "        if filename.endswith(\".jpg\"):\n",
    "            image_path = os.path.join(input_directory, filename)\n",
    "            gray_image = cv2.imread(image_path, cv2.IMREAD_GRAYSCALE)\n",
    "            gray_images.append(gray_image)\n",
    "\n",
    "    return gray_images"
   ]
  },
  {
   "cell_type": "code",
   "execution_count": 12,
   "metadata": {},
   "outputs": [],
   "source": [
    "df = pd.read_excel(\"Dataset Excel Sheets/ArabSign Labeled Sentence.xlsx\", header=None, names=['Key', 'Value'])\n",
    "data_dict = {key: [int(i) for i in str(values).split(',') if i.strip().isdigit()] for key, values in zip(df['Key'], df['Value'])}"
   ]
  },
  {
   "cell_type": "code",
   "execution_count": 13,
   "metadata": {},
   "outputs": [],
   "source": [
    "def applyATD(frames, output_directory, index, sent):\n",
    "    forwardATD = applyForwardDiff(frames)\n",
    "    backwardATD = applyBackwardDiff(frames)\n",
    "    bidirectATD = applyBiDirectionalDiff(frames)\n",
    "    \n",
    "    \n",
    "    wordFolder = os.path.join(output_directory, f'word_{index}')\n",
    "\n",
    "    # check if the folder already exists\n",
    "    if not os.path.exists(wordFolder):\n",
    "        os.makedirs(wordFolder)\n",
    "        #logging.info(f\"Folder created at {wordFolder}\")\n",
    "    #else:\n",
    "        #logging.info(f\"Folder already exists at {wordFolder}\")\n",
    "\n",
    "    #ATDFolder = os.path.join(wordFolder, 'ATD')\n",
    "\n",
    "    # check if the folder already exists\n",
    "    #if not os.path.exists(ATDFolder):\n",
    "    #    os.makedirs(ATDFolder)\n",
    "        #logging.info(f\"Folder created at {ATDFolder}\")\n",
    "    #else:\n",
    "        #logging.info(f\"Folder already exists at {ATDFolder}\")\n",
    "\n",
    "    # Save the atd images (RGB) to a directory\n",
    "    #image_ForwardATD_path = os.path.join(ATDFolder, f\"forwardATD_word{index}.png\")\n",
    "    #cv2.imwrite(image_ForwardATD_path, forwardATD)\n",
    "    \n",
    "    #image_BackwardATD_path = os.path.join(ATDFolder, f\"backwardATD_word{index}.png\")\n",
    "    #cv2.imwrite(image_BackwardATD_path, backwardATD)\n",
    "    \n",
    "    #image_BidirectionalATD_path = os.path.join(ATDFolder, f\"bidirectionalATD_word{index}.png\")\n",
    "    #cv2.imwrite(image_BidirectionalATD_path, bidirectATD)\n",
    "        \n",
    "    #logging.info(f\"ATD frames '{output_directory[-10:]}_word{index}' created and saved in '{ATDFolder}'\")\n",
    "\n",
    "    stackedImage = np.dstack([forwardATD, backwardATD, bidirectATD]).astype(np.uint8)\n",
    "    stackedImage_path = os.path.join(wordFolder, f\"word_{index}.png\")#f\"{data_dict[sent+1][index]}.png\")\n",
    "    cv2.imwrite(stackedImage_path, stackedImage)\n",
    "    \n",
    "    #logging.info(f\"Stacked Image '{output_directory[-10:]}_word{index}' created and saved in '{wordFolder}'\")"
   ]
  },
  {
   "cell_type": "markdown",
   "metadata": {},
   "source": [
    "### Main"
   ]
  },
  {
   "cell_type": "markdown",
   "metadata": {},
   "source": [
    "#### _Iterating Through Files & Run:_\n",
    "*   Image Sequences\n",
    "*   Grayscaling\n",
    "*   ATD & Image Stacking"
   ]
  },
  {
   "cell_type": "code",
   "execution_count": 14,
   "metadata": {},
   "outputs": [],
   "source": [
    "\n",
    "dataset_path = r\"D:\\LINA SCHOOL LAPTOP\\MODELS\\ArabSign Predict Test Greyscales\"                            # path to whole Dataset Folder\n",
    "ATD_output_path = r\"D:\\LINA SCHOOL LAPTOP\\MODELS\\ArabSign Predict Stacks\"       # path to a folder of your choice\n",
    "if not os.path.exists(ATD_output_path):\n",
    "    os.mkdir(ATD_output_path)\n",
    "\n",
    "folders = [participant for participant in os.listdir(dataset_path)]                         # each 6 participents\n",
    "for participant in folders:\n",
    "    new_part = os.path.join(ATD_output_path, participant)\n",
    "    if not os.path.exists(new_part):\n",
    "        os.mkdir(new_part)\n",
    "    new_test = os.path.join(new_part, 'test')\n",
    "    if not os.path.exists(new_test):\n",
    "        os.mkdir(new_test)                                         \n",
    "    test_path = os.path.join(dataset_path, participant, 'test')                            # directly open the test for each participant\n",
    "    for idx, sentence_folder in enumerate(os.listdir(test_path)):\n",
    "        sentence_path = os.path.join(test_path, sentence_folder)                           # get the path to a folder for one sentence\n",
    "        new_sent = os.path.join(new_test, sentence_folder)\n",
    "        if not os.path.exists(new_sent):\n",
    "            os.mkdir(new_sent)\n",
    "        gray_folders = [os.path.join(sentence_path, item) for item in os.listdir(sentence_path) if os.path.isdir(os.path.join(sentence_path, item))]\n",
    "        for gray_fold in gray_folders:\n",
    "            vid_name = os.path.splitext(os.path.basename(gray_fold))[0]                       # using the same name as the video (without .mp4 as the output folder name)\n",
    "            new_vid = os.path.join(new_sent, vid_name)\n",
    "            if not os.path.exists(new_vid):\n",
    "                os.mkdir(new_vid)                                                      # for every training video in that sentence folder\n",
    "            \n",
    "                #noWords = numWordsArr[idx]\n",
    "                \n",
    "                frames = convertGrayScaletoList(gray_fold)\n",
    "                \n",
    "                noFrames = len(frames)\n",
    "                if noFrames <= 98:\n",
    "                    noWords = 2\n",
    "                elif noFrames > 98 and noFrames <= 132:\n",
    "                    noWords = 3\n",
    "                elif noFrames >= 133 and noFrames <= 147:\n",
    "                    noWords = 4\n",
    "                elif noFrames >= 148:\n",
    "                    noWords = 5\n",
    "                \n",
    "                split = noFrames // noWords\n",
    "                for n in range(noWords): \n",
    "                    index = split * n\n",
    "                    if n == noWords-1:\n",
    "                        applyATD(frames[index:], new_vid, n, idx)\n",
    "                    else:\n",
    "                        applyATD(frames[index: index + split], new_vid, n, idx)\n",
    "        "
   ]
  }
 ],
 "metadata": {
  "kernelspec": {
   "display_name": "Python 3",
   "language": "python",
   "name": "python3"
  },
  "language_info": {
   "codemirror_mode": {
    "name": "ipython",
    "version": 3
   },
   "file_extension": ".py",
   "mimetype": "text/x-python",
   "name": "python",
   "nbconvert_exporter": "python",
   "pygments_lexer": "ipython3",
   "version": "3.11.5"
  }
 },
 "nbformat": 4,
 "nbformat_minor": 2
}
