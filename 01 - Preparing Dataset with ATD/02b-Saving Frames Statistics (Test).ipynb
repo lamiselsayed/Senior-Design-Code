{
 "cells": [
  {
   "cell_type": "code",
   "execution_count": null,
   "metadata": {},
   "outputs": [],
   "source": [
    "import os\n",
    "import pandas as pd"
   ]
  },
  {
   "cell_type": "code",
   "execution_count": null,
   "metadata": {},
   "outputs": [],
   "source": [
    "noWordsLen = {2: [], 3: [], 4: [], 5: []}"
   ]
  },
  {
   "cell_type": "code",
   "execution_count": null,
   "metadata": {},
   "outputs": [],
   "source": [
    "numWordsArr = [2, 2, 4, 5, 5, 5, 5, 3, 3, 2, 4, 3, 2, 2, 3, 3, 2, 4, 3, 3, 4, 2, 3, 5, 5, 5, 2, 2, 4, 4, 5, 4, 3, 2, 3, 3, 3, 3, 2, 2, 2, 3, 2, 2, 2, 2, 4, 2, 2, 3]\n",
    "numWordsDict = {i+1: numWordsArr[i] for i in range(50)}"
   ]
  },
  {
   "cell_type": "code",
   "execution_count": null,
   "metadata": {},
   "outputs": [],
   "source": [
    "dataset_path = r\"C:\\Users\\user\\Downloads\\Dataset (3)\\03\"            # make sure it points directly to the participant folder\n",
    "\n",
    "test_path = os.path.join(dataset_path, 'test')\n",
    "\n",
    "for sentence_folder in os.listdir(test_path):\n",
    "    sentence_path = os.path.join(test_path, sentence_folder)\n",
    "    idx = int(os.path.basename(sentence_path))\n",
    "    \n",
    "\n",
    "    gray_folders = [os.path.join(sentence_path, item) for item in os.listdir(sentence_path) if os.path.isdir(os.path.join(sentence_path, item))]\n",
    "\n",
    "    for gray_fold in gray_folders:\n",
    "        scan = os.scandir(gray_fold)\n",
    "        noWords = numWordsDict[idx]\n",
    "        noWordsLen[noWords].append(sum(1 for entry in scan))"
   ]
  },
  {
   "cell_type": "code",
   "execution_count": null,
   "metadata": {},
   "outputs": [],
   "source": [
    "df = pd.DataFrame.from_dict(noWordsLen, orient='index').transpose()\n",
    "excel_file_path = 'Dataset Excel Sheets/Frames for P3.xlsx'           # rename the excel sheet with the participant's name\n",
    "df.to_excel(excel_file_path, index=False, header=True)"
   ]
  },
  {
   "cell_type": "code",
   "execution_count": null,
   "metadata": {},
   "outputs": [],
   "source": [
    "# copy this output into your excel sheet please\n",
    "df.describe()"
   ]
  }
 ],
 "metadata": {
  "kernelspec": {
   "display_name": "Python 3",
   "language": "python",
   "name": "python3"
  },
  "language_info": {
   "name": "python",
   "version": "3.12.0"
  }
 },
 "nbformat": 4,
 "nbformat_minor": 2
}
