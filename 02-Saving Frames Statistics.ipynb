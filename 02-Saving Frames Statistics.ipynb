{
 "cells": [
  {
   "cell_type": "code",
   "execution_count": 2,
   "metadata": {},
   "outputs": [],
   "source": [
    "import os\n",
    "import pandas as pd"
   ]
  },
  {
   "cell_type": "code",
   "execution_count": 3,
   "metadata": {},
   "outputs": [],
   "source": [
    "noWordsLen = {2: [], 3: [], 4: [], 5: []}"
   ]
  },
  {
   "cell_type": "code",
   "execution_count": 4,
   "metadata": {},
   "outputs": [],
   "source": [
    "numWordsArr = [2, 2, 4, 5, 5, 5, 5, 3, 3, 2, 4, 3, 2, 2, 3, 3, 2, 4, 3, 3, 4, 2, 3, 5, 5, 5, 2, 2, 4, 4, 5, 4, 3, 2, 3, 3, 3, 3, 2, 2, 2, 3, 2, 2, 2, 2, 4, 2, 2, 3]\n",
    "numWordsDict = {i+1: numWordsArr[i] for i in range(50)}\n"
   ]
  },
  {
   "cell_type": "code",
   "execution_count": 5,
   "metadata": {},
   "outputs": [],
   "source": [
    "dataset_path = r\"C:\\Users\\zaher.salman\\Desktop\\LINA JAN 24\\Senior II\\ArabSign Dataset P6\\06\" #make sure it points directly to the participant folder\n",
    "\n",
    "train_path = os.path.join(dataset_path, 'train')\n",
    "\n",
    "for sentence_folder in os.listdir(train_path):\n",
    "    sentence_path = os.path.join(train_path, sentence_folder)\n",
    "    idx = int(os.path.basename(sentence_path))\n",
    "    \n",
    "\n",
    "    gray_folders = [os.path.join(sentence_path, item) for item in os.listdir(sentence_path) if os.path.isdir(os.path.join(sentence_path, item))]\n",
    "\n",
    "    for gray_fold in gray_folders:\n",
    "        scan = os.scandir(gray_fold)\n",
    "        noWords = numWordsDict[idx]\n",
    "        noWordsLen[noWords].append(sum(1 for entry in scan))\n",
    "\n",
    "    "
   ]
  },
  {
   "cell_type": "code",
   "execution_count": 15,
   "metadata": {},
   "outputs": [],
   "source": [
    "df = pd.DataFrame.from_dict(noWordsLen, orient='index').transpose()\n",
    "excel_file_path = 'frames for P6.xlsx' #rename the excel sheet with the participant's name\n",
    "df.to_excel(excel_file_path, index=False, header=True)\n"
   ]
  },
  {
   "cell_type": "code",
   "execution_count": 18,
   "metadata": {},
   "outputs": [
    {
     "data": {
      "text/html": [
       "<div>\n",
       "<style scoped>\n",
       "    .dataframe tbody tr th:only-of-type {\n",
       "        vertical-align: middle;\n",
       "    }\n",
       "\n",
       "    .dataframe tbody tr th {\n",
       "        vertical-align: top;\n",
       "    }\n",
       "\n",
       "    .dataframe thead th {\n",
       "        text-align: right;\n",
       "    }\n",
       "</style>\n",
       "<table border=\"1\" class=\"dataframe\">\n",
       "  <thead>\n",
       "    <tr style=\"text-align: right;\">\n",
       "      <th></th>\n",
       "      <th>2</th>\n",
       "      <th>3</th>\n",
       "      <th>4</th>\n",
       "      <th>5</th>\n",
       "    </tr>\n",
       "  </thead>\n",
       "  <tbody>\n",
       "    <tr>\n",
       "      <th>count</th>\n",
       "      <td>461.000000</td>\n",
       "      <td>364.000000</td>\n",
       "      <td>193.000000</td>\n",
       "      <td>194.000000</td>\n",
       "    </tr>\n",
       "    <tr>\n",
       "      <th>mean</th>\n",
       "      <td>79.464208</td>\n",
       "      <td>121.500000</td>\n",
       "      <td>149.435233</td>\n",
       "      <td>173.304124</td>\n",
       "    </tr>\n",
       "    <tr>\n",
       "      <th>std</th>\n",
       "      <td>13.812617</td>\n",
       "      <td>22.308444</td>\n",
       "      <td>24.619970</td>\n",
       "      <td>35.705550</td>\n",
       "    </tr>\n",
       "    <tr>\n",
       "      <th>min</th>\n",
       "      <td>41.000000</td>\n",
       "      <td>67.000000</td>\n",
       "      <td>54.000000</td>\n",
       "      <td>109.000000</td>\n",
       "    </tr>\n",
       "    <tr>\n",
       "      <th>25%</th>\n",
       "      <td>71.000000</td>\n",
       "      <td>110.000000</td>\n",
       "      <td>134.000000</td>\n",
       "      <td>146.000000</td>\n",
       "    </tr>\n",
       "    <tr>\n",
       "      <th>50%</th>\n",
       "      <td>78.000000</td>\n",
       "      <td>124.000000</td>\n",
       "      <td>150.000000</td>\n",
       "      <td>165.000000</td>\n",
       "    </tr>\n",
       "    <tr>\n",
       "      <th>75%</th>\n",
       "      <td>87.000000</td>\n",
       "      <td>137.000000</td>\n",
       "      <td>165.000000</td>\n",
       "      <td>206.750000</td>\n",
       "    </tr>\n",
       "    <tr>\n",
       "      <th>max</th>\n",
       "      <td>122.000000</td>\n",
       "      <td>174.000000</td>\n",
       "      <td>211.000000</td>\n",
       "      <td>252.000000</td>\n",
       "    </tr>\n",
       "  </tbody>\n",
       "</table>\n",
       "</div>"
      ],
      "text/plain": [
       "                2           3           4           5\n",
       "count  461.000000  364.000000  193.000000  194.000000\n",
       "mean    79.464208  121.500000  149.435233  173.304124\n",
       "std     13.812617   22.308444   24.619970   35.705550\n",
       "min     41.000000   67.000000   54.000000  109.000000\n",
       "25%     71.000000  110.000000  134.000000  146.000000\n",
       "50%     78.000000  124.000000  150.000000  165.000000\n",
       "75%     87.000000  137.000000  165.000000  206.750000\n",
       "max    122.000000  174.000000  211.000000  252.000000"
      ]
     },
     "execution_count": 18,
     "metadata": {},
     "output_type": "execute_result"
    }
   ],
   "source": [
    "# copy this output into your excel sheet please\n",
    "df.describe()"
   ]
  }
 ],
 "metadata": {
  "kernelspec": {
   "display_name": "base",
   "language": "python",
   "name": "python3"
  },
  "language_info": {
   "codemirror_mode": {
    "name": "ipython",
    "version": 3
   },
   "file_extension": ".py",
   "mimetype": "text/x-python",
   "name": "python",
   "nbconvert_exporter": "python",
   "pygments_lexer": "ipython3",
   "version": "3.11.5"
  }
 },
 "nbformat": 4,
 "nbformat_minor": 2
}
