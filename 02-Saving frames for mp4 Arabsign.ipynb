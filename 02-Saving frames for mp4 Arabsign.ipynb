{
 "cells": [
  {
   "cell_type": "code",
   "execution_count": 2,
   "metadata": {},
   "outputs": [],
   "source": [
    "import cv2\n",
    "import os"
   ]
  },
  {
   "cell_type": "code",
   "execution_count": 3,
   "metadata": {},
   "outputs": [],
   "source": [
    "\n",
    "def save_frames_from_video(input_video_path, output_folder):\n",
    "    # Create output folder if it doesn't exist\n",
    "    if not os.path.exists(output_folder):\n",
    "        os.makedirs(output_folder)\n",
    "\n",
    "    # Open the video file\n",
    "    video_capture = cv2.VideoCapture(input_video_path)\n",
    "    \n",
    "    # Get video properties\n",
    "    fps = int(video_capture.get(cv2.CAP_PROP_FPS))\n",
    "    frame_count = int(video_capture.get(cv2.CAP_PROP_FRAME_COUNT))\n",
    "\n",
    "    # Loop through each frame and save as an image\n",
    "    for frame_number in range(frame_count):\n",
    "        # Read the next frame\n",
    "        ret, frame = video_capture.read()\n",
    "        if not ret:\n",
    "            break\n",
    "\n",
    "        # Save the frame as an image\n",
    "        image_path = os.path.join(output_folder, f\"frame_{frame_number:04d}.png\")\n",
    "        cv2.imwrite(image_path, frame)\n",
    "\n",
    "    # Release the video capture object\n",
    "    video_capture.release()"
   ]
  },
  {
   "cell_type": "code",
   "execution_count": null,
   "metadata": {},
   "outputs": [],
   "source": [
    "dataset_path = r\"C:\\Users\\zaher.salman\\Desktop\\LINA JAN 24\\Senior II\\ArabSign Dataset\"      # path to whole Dataset Folder\n",
    "folders = [participent for participent in os.listdir(dataset_path)]                         # each 6 participents\n",
    "for participent in folders:                                                 \n",
    "    train_path = os.path.join(dataset_path, participent, 'train')                           # directly open the train for each participent\n",
    "    for sentence_folder in os.listdir(train_path):\n",
    "        sentence_path = os.path.join(train_path, sentence_folder)                           # get the path to a folder for one sentence\n",
    "        for video in os.listdir(sentence_path):                                             # for every training video in that sentence folder\n",
    "            input_video_path = os.path.join(sentence_path, video)                           # input is the path of the individual video\n",
    "            video_name = os.path.splitext(os.path.basename(video))[0]                       # using the same name as the video (without .mp4 as the output folder name)\n",
    "            output_folder = os.path.join(sentence_path, video_name)                         # create the output folder to store the frames\n",
    "            os.makedirs(output_folder)\n",
    "            save_frames_from_video(input_video_path, output_folder)                         # saves all frames as images"
   ]
  }
 ],
 "metadata": {
  "kernelspec": {
   "display_name": "base",
   "language": "python",
   "name": "python3"
  },
  "language_info": {
   "codemirror_mode": {
    "name": "ipython",
    "version": 3
   },
   "file_extension": ".py",
   "mimetype": "text/x-python",
   "name": "python",
   "nbconvert_exporter": "python",
   "pygments_lexer": "ipython3",
   "version": "3.11.5"
  }
 },
 "nbformat": 4,
 "nbformat_minor": 2
}
