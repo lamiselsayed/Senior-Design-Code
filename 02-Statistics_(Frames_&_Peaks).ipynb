{
 "cells": [
  {
   "cell_type": "code",
   "execution_count": 2,
   "metadata": {},
   "outputs": [
    {
     "name": "stderr",
     "output_type": "stream",
     "text": [
      "C:\\Users\\salma\\AppData\\Local\\Temp\\ipykernel_13340\\4157862285.py:5: DeprecationWarning: \n",
      "Pyarrow will become a required dependency of pandas in the next major release of pandas (pandas 3.0),\n",
      "(to allow more performant data types, such as the Arrow string type, and better interoperability with other libraries)\n",
      "but was not found to be installed on your system.\n",
      "If this would cause problems for you,\n",
      "please provide us feedback at https://github.com/pandas-dev/pandas/issues/54466\n",
      "        \n",
      "  import pandas as pd\n"
     ]
    }
   ],
   "source": [
    "# Imports \n",
    "\n",
    "import os\n",
    "import cv2\n",
    "import pandas as pd"
   ]
  },
  {
   "cell_type": "code",
   "execution_count": 3,
   "metadata": {},
   "outputs": [],
   "source": [
    "# Extract videos\n",
    "directory_path = \"C:/Users/salma/Downloads/file\"\n",
    "svo_files = [file for file in os.listdir(directory_path) if file.lower().endswith('.svo')]"
   ]
  },
  {
   "cell_type": "markdown",
   "metadata": {},
   "source": [
    "### Getting the number of Frames"
   ]
  },
  {
   "cell_type": "code",
   "execution_count": 6,
   "metadata": {},
   "outputs": [
    {
     "name": "stdout",
     "output_type": "stream",
     "text": [
      "Frame counts saved to C:/Users/salma/Downloads/file/output_frames_counts.xlsx\n"
     ]
    }
   ],
   "source": [
    "# Method 1: How long the videos are\n",
    "    # Number of frames\n",
    "    \n",
    "frame_counts = {}\n",
    "\n",
    "def get_number_of_frames(video_path):\n",
    "    for svo_file in svo_files:\n",
    "        video_path = os.path.join(directory_path, svo_file)\n",
    "        \n",
    "        cap = cv2.VideoCapture(video_path)\n",
    "\n",
    "        num_frames = 0\n",
    "        while True:\n",
    "            ret, frame = cap.read()\n",
    "            if not ret:\n",
    "                break\n",
    "            num_frames += 1\n",
    "        \n",
    "        frame_counts[svo_file] = num_frames\n",
    "            \n",
    "        cap.release()\n",
    "    return frame_counts\n",
    "\n",
    "\n",
    "def save_to_excel(frame_counts, output_file):\n",
    "    df = pd.DataFrame(list(frame_counts.items()), columns=['Video', 'Frame Num'])\n",
    "    df.to_excel(output_file, index=False)\n",
    "\n",
    "output_excel_file = \"C:/Users/salma/Downloads/file/output_frames_counts.xlsx\"  \n",
    "save_to_excel(get_number_of_frames(directory_path), output_excel_file)\n",
    "\n",
    "print(f\"Frame counts saved to {output_excel_file}\")\n"
   ]
  }
 ],
 "metadata": {
  "kernelspec": {
   "display_name": "Python 3",
   "language": "python",
   "name": "python3"
  },
  "language_info": {
   "codemirror_mode": {
    "name": "ipython",
    "version": 3
   },
   "file_extension": ".py",
   "mimetype": "text/x-python",
   "name": "python",
   "nbconvert_exporter": "python",
   "pygments_lexer": "ipython3",
   "version": "3.11.8"
  }
 },
 "nbformat": 4,
 "nbformat_minor": 2
}
