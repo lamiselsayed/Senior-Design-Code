{
 "cells": [
  {
   "cell_type": "code",
   "execution_count": 4,
   "metadata": {},
   "outputs": [],
   "source": [
    "import os\n",
    "import shutil"
   ]
  },
  {
   "cell_type": "code",
   "execution_count": 9,
   "metadata": {},
   "outputs": [],
   "source": [
    "dataset_path = r\"C:\\Users\\zaher.salman\\Desktop\\LINA JAN 24\\Senior II\\ArabSign Stack Dataset\"\n",
    "ATD_output_path = r\"C:\\Users\\zaher.salman\\Desktop\\LINA JAN 24\\Senior II\\ArabSign ATD only Dataset Test\"\n",
    "if not os.path.exists(ATD_output_path):\n",
    "    os.mkdir(ATD_output_path)\n",
    "\n",
    "\n",
    "folders = [participant for participant in os.listdir(dataset_path)]\n",
    "for participant in folders:\n",
    "    if participant == '01':\n",
    "        new_part = os.path.join(ATD_output_path, participant)\n",
    "        #print('new_part: ', new_part)\n",
    "        if not os.path.exists(new_part):\n",
    "            os.mkdir(new_part)\n",
    "        new_train = os.path.join(new_part, 'test')\n",
    "        #print('new_train: ', new_train)\n",
    "        if not os.path.exists(new_train):\n",
    "            os.mkdir(new_train)                                         \n",
    "        train_path = os.path.join(dataset_path, participant, 'test')\n",
    "        for idx, sentence_folder in enumerate(os.listdir(train_path)):\n",
    "            sentence_path = os.path.join(train_path, sentence_folder)\n",
    "            #print('sentence_path: ', sentence_path)\n",
    "            new_sent_folder = os.path.join(new_train, sentence_folder)\n",
    "            #print('new_sent: ', new_sent_folder)\n",
    "            if not os.path.exists(new_sent_folder):\n",
    "                os.mkdir(new_sent_folder)\n",
    "            for sent_folders in os.listdir(sentence_path):\n",
    "                sentence = os.path.join(sentence_path, sent_folders)\n",
    "                #print('sentence: ', sentence)\n",
    "                new_sentence = os.path.join(new_sent_folder, sent_folders)\n",
    "                #print('new_sentence: ', new_sentence)\n",
    "                if not os.path.exists(new_sentence):\n",
    "                    os.mkdir(new_sentence)\n",
    "                for words in os.listdir(sentence):\n",
    "                    current_words = os.path.join(sentence, words)\n",
    "                    new_words = os.path.join(new_sentence, words)\n",
    "                    #print('new_words: ', new_words)\n",
    "                    if not os.path.exists(new_words):\n",
    "                        os.mkdir(new_words)\n",
    "                        ATD_folder = os.path.join(current_words, 'ATD')\n",
    "                        #print('ATD_folder: ', ATD_folder)\n",
    "                        shutil.move(ATD_folder, new_words)\n",
    "                        \n",
    "                \n",
    "            \n",
    "        \n",
    "\n",
    "        \n",
    "\n",
    "                \n",
    "            \n",
    "        "
   ]
  }
 ],
 "metadata": {
  "kernelspec": {
   "display_name": "base",
   "language": "python",
   "name": "python3"
  },
  "language_info": {
   "codemirror_mode": {
    "name": "ipython",
    "version": 3
   },
   "file_extension": ".py",
   "mimetype": "text/x-python",
   "name": "python",
   "nbconvert_exporter": "python",
   "pygments_lexer": "ipython3",
   "version": "3.11.5"
  }
 },
 "nbformat": 4,
 "nbformat_minor": 2
}
