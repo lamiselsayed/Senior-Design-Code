{
 "cells": [
  {
   "cell_type": "markdown",
   "metadata": {},
   "source": [
    "### Read Videos & Convert to Frames"
   ]
  },
  {
   "cell_type": "code",
   "execution_count": 2,
   "metadata": {},
   "outputs": [],
   "source": [
    "import os\n",
    "import logging\n",
    "import subprocess"
   ]
  },
  {
   "cell_type": "code",
   "execution_count": 3,
   "metadata": {},
   "outputs": [],
   "source": [
    "logging.basicConfig(level=logging.INFO) "
   ]
  },
  {
   "cell_type": "code",
   "execution_count": 4,
   "metadata": {},
   "outputs": [],
   "source": [
    "def extractFrames(directory_path, output_directory):\n",
    "\n",
    "    # list all files in the directory\n",
    "    videos = [vid for vid in os.listdir(directory_path) if vid.lower().endswith('.mp4')]\n",
    "\n",
    "    # process each file\n",
    "    for vid in videos:\n",
    "        video_path = os.path.join(directory_path, vid)\n",
    "        output_path = os.path.join(output_directory, vid)       # ???????????????????????????????????? wtf\n",
    "\n",
    "        # check if the folder already exists\n",
    "        if not os.path.exists(output_path):\n",
    "            os.makedirs(output_path)\n",
    "            logging.info(f\"Folder '{vid}' created at {output_path}\")\n",
    "        else:\n",
    "            logging.info(f\"Folder '{vid}' already exists at {output_path}\")\n",
    "        \n",
    "        ffmpeg_command = f\"ffmpeg -i {video_path} {output_directory}/frame%03d.png\"\n",
    "        # what we want to name the files --> A_0001_rep01_frame001\n",
    "        #                                    Dataset_Train/{participantName}_{sentence_ID}_rep{%02d}_frame%03d.png\n",
    "        \n",
    "        subprocess.run(ffmpeg_command, shell=True)\n",
    "\n",
    "    return output_path"
   ]
  },
  {
   "cell_type": "code",
   "execution_count": 20,
   "metadata": {},
   "outputs": [],
   "source": [
    "base_directory = 'Dataset_Train'"
   ]
  },
  {
   "cell_type": "markdown",
   "metadata": {},
   "source": [
    "### Convert to Grayscale"
   ]
  },
  {
   "cell_type": "code",
   "execution_count": 6,
   "metadata": {},
   "outputs": [],
   "source": [
    "from matplotlib import pyplot as plt\n",
    "import cv2\n",
    "import numpy as np"
   ]
  },
  {
   "cell_type": "code",
   "execution_count": 9,
   "metadata": {},
   "outputs": [],
   "source": [
    "def convertToGrayScale(directory_path, output_directory):\n",
    "    # List all frames of the video in the folder with the specified directory_path\n",
    "    videoFrames = [frame for frame in os.listdir(directory_path)]       # name of file\n",
    "\n",
    "    # List all \n",
    "    grayImagesList = [] \n",
    "    for frame in videoFrames:\n",
    "        frame_path = os.path.join(directory_path, frame)\n",
    "        grayImage = cv2.imread(frame_path, cv2.IMREAD_GRAYSCALE)\n",
    "        grayImagesList.append(grayImage.astype(np.int16))\n",
    "        \n",
    "        # Save the grayscale image to a directory\n",
    "        output_path = os.path.join(output_directory, f\"gray_{frame}\")\n",
    "        cv2.imwrite(output_path, grayImage)\n",
    "        \n",
    "    logging.info(f\"video images '{output_directory[-10:]}' converted to grayscale and saved in '{output_directory}'\")\n",
    "\n",
    "    return grayImagesList"
   ]
  },
  {
   "cell_type": "markdown",
   "metadata": {},
   "source": [
    "### Directional ATD"
   ]
  },
  {
   "cell_type": "code",
   "execution_count": 10,
   "metadata": {},
   "outputs": [],
   "source": [
    "def performThreshold(diffFrame):\n",
    "    mask = (diffFrame < 13) & (diffFrame > -13)\n",
    "    diffFrame[mask] = 0\n",
    "    return diffFrame"
   ]
  },
  {
   "cell_type": "code",
   "execution_count": 11,
   "metadata": {},
   "outputs": [],
   "source": [
    "def binarize(noiseless_image):\n",
    "    mean = np.mean(noiseless_image)\n",
    "    maskZeroes = (noiseless_image < mean)\n",
    "    maskOnes = (noiseless_image >= mean)\n",
    "    binarizedImage = noiseless_image\n",
    "    binarizedImage[maskZeroes] = 0\n",
    "    binarizedImage[maskOnes] = 1\n",
    "    return binarizedImage"
   ]
  },
  {
   "cell_type": "code",
   "execution_count": 12,
   "metadata": {},
   "outputs": [],
   "source": [
    "def accumulateFrames(framesList):\n",
    "    accumulatedFrame = framesList[0]\n",
    "\n",
    "    for i in range(1, len(framesList)):\n",
    "        accumulatedFrame += framesList[i]\n",
    "    \n",
    "    return accumulatedFrame"
   ]
  },
  {
   "cell_type": "code",
   "execution_count": 13,
   "metadata": {},
   "outputs": [],
   "source": [
    "def applyForwardDiff(grayImagesList):\n",
    "    listOfFrames = []\n",
    "\n",
    "    for index in range(len(grayImagesList) - 1):\n",
    "        forward_ImageDiff = grayImagesList[index] - grayImagesList[index + 1]\n",
    "        forward_ImageDiff = performThreshold(forward_ImageDiff)\n",
    "        binarizedImage = binarize(forward_ImageDiff)        \n",
    "        listOfFrames.append(binarizedImage)\n",
    "    \n",
    "    return accumulateFrames(listOfFrames)"
   ]
  },
  {
   "cell_type": "code",
   "execution_count": 14,
   "metadata": {},
   "outputs": [],
   "source": [
    "def applyBackwardDiff(grayImagesList):\n",
    "    listOfFrames = []\n",
    "\n",
    "    for index in range(1, len(grayImagesList)):\n",
    "        backward_ImageDiff = grayImagesList[index] - grayImagesList[index - 1]\n",
    "        backward_ImageDiff = performThreshold(backward_ImageDiff)\n",
    "        binarizedImage = binarize(backward_ImageDiff) \n",
    "        listOfFrames.append(binarizedImage)\n",
    "    \n",
    "    return accumulateFrames(listOfFrames)"
   ]
  },
  {
   "cell_type": "code",
   "execution_count": 15,
   "metadata": {},
   "outputs": [],
   "source": [
    "def applyBiDirectionalDiff(grayImagesList):\n",
    "    listOfFrames = []\n",
    "\n",
    "    for index in range(1, len(grayImagesList)-1):\n",
    "        average_frame = np.mean([grayImagesList[index - 1], grayImagesList[index + 1]], axis=0)\n",
    "        bidirectional_ImageDiff = grayImagesList[index] - average_frame\n",
    "        bidirectional_ImageDiff = performThreshold(bidirectional_ImageDiff)\n",
    "        binarizedImage = binarize(bidirectional_ImageDiff)\n",
    "        listOfFrames.append(binarizedImage)\n",
    "    \n",
    "    return accumulateFrames(listOfFrames)"
   ]
  },
  {
   "cell_type": "code",
   "execution_count": 16,
   "metadata": {},
   "outputs": [],
   "source": [
    "def applyATD(frames, output_directory, index):\n",
    "    forwardATD = applyForwardDiff(frames)\n",
    "    backwardATD = applyBackwardDiff(frames)\n",
    "    bidirectATD = applyBiDirectionalDiff(frames)\n",
    "    \n",
    "    \n",
    "    wordFolder = os.path.join(output_directory, f'word_{index}')\n",
    "\n",
    "    # check if the folder already exists\n",
    "    if not os.path.exists(wordFolder):\n",
    "        os.makedirs(wordFolder)\n",
    "        logging.info(f\"Folder created at {wordFolder}\")\n",
    "    else:\n",
    "        logging.info(f\"Folder already exists at {wordFolder}\")\n",
    "\n",
    "    # Save the atd images (RGB) to a directory\n",
    "    image_ForwardATD_path = os.path.join(wordFolder, f\"forwardATD_word{index}.png\")\n",
    "    cv2.imwrite(image_ForwardATD_path, forwardATD)\n",
    "    \n",
    "    image_BackwardATD_path = os.path.join(wordFolder, f\"backwardATD_word{index}.png\")\n",
    "    cv2.imwrite(image_BackwardATD_path, backwardATD)\n",
    "    \n",
    "    image_BidirectionalATD_path = os.path.join(wordFolder, f\"bidirectionalATD_word{index}.png\")\n",
    "    cv2.imwrite(image_BidirectionalATD_path, bidirectATD)\n",
    "        \n",
    "    logging.info(f\"ATD frames '{output_directory[-10:]}_word{index}' created and saved in '{wordFolder}'\")\n",
    "\n",
    "    stackedImage = np.dstack([forwardATD, backwardATD, bidirectATD]).astype(np.uint8)\n",
    "    stackedImage_path = os.path.join(wordFolder, f\"stackedImage_word{index}.png\")\n",
    "    cv2.imwrite(stackedImage_path, stackedImage)\n",
    "    \n",
    "    logging.info(f\"Stacked Image '{output_directory[-10:]}_word{index}' created and saved in '{wordFolder}'\")"
   ]
  },
  {
   "cell_type": "markdown",
   "metadata": {},
   "source": [
    "### Main"
   ]
  },
  {
   "cell_type": "markdown",
   "metadata": {},
   "source": [
    "#### _Creating External Files_"
   ]
  },
  {
   "cell_type": "code",
   "execution_count": 22,
   "metadata": {},
   "outputs": [],
   "source": [
    "noWords = 2"
   ]
  },
  {
   "cell_type": "code",
   "execution_count": 21,
   "metadata": {},
   "outputs": [
    {
     "name": "stderr",
     "output_type": "stream",
     "text": [
      "INFO:root:Folder 'videoFrames' created at videoFrames\n",
      "INFO:root:Folder 'grayscaleFrames' created at grayscaleFrames\n",
      "INFO:root:Folder 'ATDStacked' created at ATD&Stacked\n"
     ]
    }
   ],
   "source": [
    "## Image Sequence File ##\n",
    "vidFrames_path = os.path.join('videoFrames')\n",
    "if not os.path.exists(vidFrames_path):\n",
    "    os.makedirs(vidFrames_path)\n",
    "    logging.info(f\"Folder 'videoFrames' created at {vidFrames_path}\")\n",
    "\n",
    "## Grayscale File ##\n",
    "grayscaleFrames_path = os.path.join('grayscaleFrames')\n",
    "if not os.path.exists(grayscaleFrames_path):\n",
    "    os.makedirs(grayscaleFrames_path)\n",
    "    logging.info(f\"Folder 'grayscaleFrames' created at {grayscaleFrames_path}\")\n",
    "    \n",
    "## ATD and Stacked Image ##\n",
    "ATDStacked_path = os.path.join('ATD&Stacked')\n",
    "if not os.path.exists(ATDStacked_path):\n",
    "    os.makedirs(ATDStacked_path)\n",
    "    logging.info(f\"Folder 'ATDStacked' created at {ATDStacked_path}\")"
   ]
  },
  {
   "cell_type": "markdown",
   "metadata": {},
   "source": [
    "#### _Iterating Through Files & Run:_\n",
    "*   Image Sequences\n",
    "*   Grayscaling\n",
    "*   ATD & Image Stacking"
   ]
  },
  {
   "cell_type": "code",
   "execution_count": 19,
   "metadata": {},
   "outputs": [],
   "source": [
    "# Iterate through the directory and its subdirectories\n",
    "first_iteration = True\n",
    "for root, dirs, files in os.walk(base_directory):\n",
    "    \n",
    "    # Skip the first iteration (base)\n",
    "    if first_iteration:\n",
    "        first_iteration = False\n",
    "        continue  \n",
    "    \n",
    "    # Create folders for each participant (A, B, C, etc.) in each of the three folders (videoFrames, grayscaleFrames, ATDStackedFrames)\n",
    "    participant_img_Path = os.path.join(vidFrames_path, os.path.relpath(root, base_directory))    \n",
    "    if not os.path.exists(participant_img_Path):\n",
    "        os.makedirs(participant_img_Path)\n",
    "        \n",
    "    participant_grayscale_Path = os.path.join(grayscaleFrames_path, os.path.relpath(root, base_directory))\n",
    "    if not os.path.exists(participant_grayscale_Path):\n",
    "        os.makedirs(participant_grayscale_Path)\n",
    "        \n",
    "    participant_atd_path = os.path.join(ATDStacked_path, os.path.relpath(root, base_directory))\n",
    "    if not os.path.exists(participant_atd_path):\n",
    "        os.makedirs(participant_atd_path)\n",
    "    \n",
    "    for directory in dirs:\n",
    "        # Create folders for each sentence (1 --> 50) in each of the three folders (videoFrames, grayscaleFrames, ATDStackedFrames)\n",
    "        sentenceID_img_path = os.path.join(participant_img_Path, f'_{directory}')\n",
    "        if not os.path.exists(sentenceID_img_path):\n",
    "            os.makedirs(sentenceID_img_path)\n",
    "            \n",
    "        sentenceID_grayscale_path = os.path.join(participant_grayscale_Path, f'_{directory}')\n",
    "        if not os.path.exists(sentenceID_grayscale_path):\n",
    "            os.makedirs(sentenceID_grayscale_path)\n",
    "            \n",
    "        sentenceID_atd_path = os.path.join(participant_atd_path, f'_{directory}')\n",
    "        if not os.path.exists(sentenceID_atd_path):\n",
    "            os.makedirs(sentenceID_atd_path)\n",
    "        \n",
    "        # Run Image Sequence Code\n",
    "        vid_path = os.path.join(root, directory)\n",
    "        output_path = extractFrames(vid_path, sentenceID_img_path)\n",
    "        \n",
    "        # Run GrayScale\n",
    "        output_gray_path = os.path.join(sentenceID_grayscale_path, os.path.relpath(output_path, sentenceID_img_path))\n",
    "        if not os.path.exists(output_gray_path):\n",
    "            os.makedirs(output_gray_path)\n",
    "        grayImagesList = convertToGrayScale(output_path, output_gray_path)\n",
    "        \n",
    "        # Run ATD\n",
    "        output_atd_path = os.path.join(sentenceID_atd_path, os.path.relpath(output_gray_path, sentenceID_grayscale_path))\n",
    "        # relpath --> compares output_gray_path & sentenceID_grayscale_path\n",
    "        #             their difference is the actual sentence idea\n",
    "        \n",
    "        if not os.path.exists(output_atd_path):\n",
    "            os.makedirs(output_atd_path)\n",
    "        \n",
    "        noFrames = len(grayImagesList)\n",
    "        split = noFrames // noWords\n",
    "        \n",
    "        for i in range(noWords):\n",
    "            index = split * i\n",
    "            applyATD(grayImagesList[index: index + split], output_atd_path, i + 1)"
   ]
  }
 ],
 "metadata": {
  "kernelspec": {
   "display_name": "Python 3",
   "language": "python",
   "name": "python3"
  },
  "language_info": {
   "codemirror_mode": {
    "name": "ipython",
    "version": 3
   },
   "file_extension": ".py",
   "mimetype": "text/x-python",
   "name": "python",
   "nbconvert_exporter": "python",
   "pygments_lexer": "ipython3",
   "version": "3.11.8"
  }
 },
 "nbformat": 4,
 "nbformat_minor": 2
}
