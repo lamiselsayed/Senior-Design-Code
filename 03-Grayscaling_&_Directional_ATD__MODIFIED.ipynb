{
 "cells": [
  {
   "cell_type": "markdown",
   "metadata": {},
   "source": [
    "### Read Videos & Convert to Frames"
   ]
  },
  {
   "cell_type": "code",
   "execution_count": 15,
   "metadata": {},
   "outputs": [],
   "source": [
    "import os\n",
    "import logging\n",
    "import subprocess"
   ]
  },
  {
   "cell_type": "code",
   "execution_count": 16,
   "metadata": {},
   "outputs": [],
   "source": [
    "def create_folders_and_export_videos(directory_path, image_folder_path):\n",
    "    logging.basicConfig(level=logging.INFO) \n",
    "\n",
    "    # List all .svo video files in the specified directory\n",
    "    svo_files = [file for file in os.listdir(directory_path) if file.lower().endswith('.svo')]\n",
    "\n",
    "    # Process each .svo video file\n",
    "    for svo_file in svo_files:\n",
    "        video_path = os.path.join(directory_path, svo_file)\n",
    "        output_path = os.path.join(image_folder_path, os.path.splitext(svo_file)[0])\n",
    "\n",
    "        # Check if the folder already exists\n",
    "        if not os.path.exists(output_path):\n",
    "            os.makedirs(output_path)\n",
    "            logging.info(f\"Folder '{os.path.splitext(svo_file)[0]}' created at {output_path}\")\n",
    "        else:\n",
    "            logging.info(f\"Folder '{os.path.splitext(svo_file)[0]}' already exists at {output_path}\")\n",
    "\n",
    "        # Run ZED_SVO_Export.exe command for .svo files (must be run from the same directory as the SDK so change the directories first)\n",
    "        zed_sdk_bin_path = 'C:/Program Files (x86)/ZED SDK/samples/bin'\n",
    "        os.chdir(zed_sdk_bin_path)\n",
    "        command = f'ZED_SVO_Export.exe \"{video_path}\" \"{output_path}/\" 3'\n",
    "        subprocess.run(command, shell=True)\n",
    "\n",
    "        # Check the exported files and delete those that do not start with \"left\" (we don't want the depth information)\n",
    "        exported_files = [file for file in os.listdir(output_path) if file.lower().endswith('.png')]\n",
    "        for exported_file in exported_files:\n",
    "            if not exported_file.lower().startswith('left'):\n",
    "                file_path = os.path.join(output_path, exported_file)\n",
    "                os.remove(file_path)\n",
    "                # logging.info(f\"File '{exported_file}' deleted as it does not start with 'left'\")\n",
    "\n",
    "        print(f\".svo file '{svo_file}' exported and saved in '{output_path}'\")\n",
    "        \n",
    "    return output_path"
   ]
  },
  {
   "cell_type": "markdown",
   "metadata": {},
   "source": [
    "### Convert to Grayscale"
   ]
  },
  {
   "cell_type": "code",
   "execution_count": 17,
   "metadata": {},
   "outputs": [],
   "source": [
    "from matplotlib import pyplot as plt\n",
    "import cv2\n",
    "import numpy as np"
   ]
  },
  {
   "cell_type": "code",
   "execution_count": 18,
   "metadata": {},
   "outputs": [],
   "source": [
    "def convertToGrayScale(path, output_directory):\n",
    "    # List all frames of the video in the folder with the specified directory_path\n",
    "    videoFrames = [frame for frame in os.listdir(path)]       # name of file\n",
    "\n",
    "    # List all \n",
    "    grayImagesList = [] \n",
    "    for frame in videoFrames:\n",
    "        frame_path = os.path.join(path, frame)\n",
    "        grayImage = cv2.imread(frame_path, cv2.IMREAD_GRAYSCALE)\n",
    "        grayImagesList.append(grayImage.astype(np.int16))\n",
    "        \n",
    "        # Save the grayscale image to a directory\n",
    "        output_path = os.path.join(output_directory, f\"gray_{frame}\")\n",
    "        cv2.imwrite(output_path, grayImage)\n",
    "        \n",
    "    print(f\"video images '{output_directory[-6:]}' converted to grayscale and saved in '{output_directory}'\")\n",
    "    # Need to make sure all files are named the same to have correct printing\n",
    "\n",
    "    return grayImagesList # might remove and reurn path instead"
   ]
  },
  {
   "cell_type": "markdown",
   "metadata": {},
   "source": [
    "### Directional ATD"
   ]
  },
  {
   "cell_type": "markdown",
   "metadata": {},
   "source": [
    "##### The process of ATD involves using thresholds to set insignificant differences of pixel values to 0. Insignificant differences represent minimal to no change in motion between two frames. For the difference of any two frames in a sequence, extreme or ‘noise’ values are set to 0 to reduce the effect on the average pixel value. For example, absolute values below 13 can be set to 0 and thoseabove 13 are kept as is. Afterwards, the average of the pixel values μ of the differenced frame is taken and used as the threshold for setting insignificant differences to 0 and significant ones to 1. This process, known as binarization, is performed for every pair of sequential frames. Once complete, the values of all differences are accumulated, resulting in one frame with pixel values indicating significant change in motion over a sequence of time."
   ]
  },
  {
   "cell_type": "code",
   "execution_count": 19,
   "metadata": {},
   "outputs": [],
   "source": [
    "from matplotlib import pyplot as plt \n",
    "import numpy as np"
   ]
  },
  {
   "cell_type": "code",
   "execution_count": 20,
   "metadata": {},
   "outputs": [],
   "source": [
    "def performThreshold(diffFrame):\n",
    "    mask = (diffFrame < 13) & (diffFrame > -13)\n",
    "    diffFrame[mask] = 0\n",
    "    return diffFrame"
   ]
  },
  {
   "cell_type": "code",
   "execution_count": 21,
   "metadata": {},
   "outputs": [],
   "source": [
    "def binarize(noiseless_image):\n",
    "    mean = np.mean(noiseless_image)\n",
    "    maskZeroes = (noiseless_image < mean)\n",
    "    maskOnes = (noiseless_image >= mean)\n",
    "    binarizedImage = noiseless_image\n",
    "    binarizedImage[maskZeroes] = 0\n",
    "    binarizedImage[maskOnes] = 1\n",
    "    return binarizedImage"
   ]
  },
  {
   "cell_type": "code",
   "execution_count": 22,
   "metadata": {},
   "outputs": [],
   "source": [
    "def accumulateFrames(framesList):\n",
    "    accumulatedFrame = framesList[0]\n",
    "\n",
    "    for i in range(1, len(framesList)):\n",
    "        accumulatedFrame += framesList[i]\n",
    "    \n",
    "    return accumulatedFrame"
   ]
  },
  {
   "cell_type": "code",
   "execution_count": 23,
   "metadata": {},
   "outputs": [],
   "source": [
    "def applyForwardDiff(grayImagesList):\n",
    "    listOfFrames = []\n",
    "\n",
    "    for index in range(len(grayImagesList) - 1):\n",
    "        forward_ImageDiff = grayImagesList[index] - grayImagesList[index + 1]\n",
    "        forward_ImageDiff = performThreshold(forward_ImageDiff)\n",
    "        binarizedImage = binarize(forward_ImageDiff)        \n",
    "        listOfFrames.append(binarizedImage)\n",
    "    \n",
    "    return accumulateFrames(listOfFrames)"
   ]
  },
  {
   "cell_type": "code",
   "execution_count": 24,
   "metadata": {},
   "outputs": [],
   "source": [
    "def applyBackwardDiff(grayImagesList):\n",
    "    listOfFrames = []\n",
    "\n",
    "    for index in range(1, len(grayImagesList)):\n",
    "        backward_ImageDiff = grayImagesList[index] - grayImagesList[index - 1]\n",
    "        backward_ImageDiff = performThreshold(backward_ImageDiff)\n",
    "        binarizedImage = binarize(backward_ImageDiff) \n",
    "        listOfFrames.append(binarizedImage)\n",
    "    \n",
    "    return accumulateFrames(listOfFrames)"
   ]
  },
  {
   "cell_type": "code",
   "execution_count": 25,
   "metadata": {},
   "outputs": [],
   "source": [
    "def applyBiDirectionalDiff(grayImagesList):\n",
    "    listOfFrames = []\n",
    "\n",
    "    for index in range(1, len(grayImagesList)-1):\n",
    "        average_frame = np.mean([grayImagesList[index - 1], grayImagesList[index + 1]], axis=0)\n",
    "        bidirectional_ImageDiff = grayImagesList[index] - average_frame\n",
    "        bidirectional_ImageDiff = performThreshold(bidirectional_ImageDiff)\n",
    "        binarizedImage = binarize(bidirectional_ImageDiff)\n",
    "        listOfFrames.append(binarizedImage)\n",
    "    \n",
    "    return accumulateFrames(listOfFrames)"
   ]
  },
  {
   "cell_type": "code",
   "execution_count": 31,
   "metadata": {},
   "outputs": [],
   "source": [
    "def applyATD(frames, output_directory, index):\n",
    "    forwardATD = applyForwardDiff(frames)\n",
    "    backwardATD = applyBackwardDiff(frames)\n",
    "    bidirectATD = applyBiDirectionalDiff(frames)\n",
    "    \n",
    "    # Convert to np.uint8\n",
    "    # forwardATD = forwardATD.astype(np.uint8)\n",
    "    # backwardATD = backwardATD.astype(np.uint8)\n",
    "    # bidirectATD = bidirectATD.astype(np.uint8)\n",
    "    \n",
    "    # Save the atd images (RGB) to a directory\n",
    "    image_ForwardATD_path = os.path.join(output_directory, f\"forwardATD_word{index}\")\n",
    "    cv2.imwrite(image_ForwardATD_path, forwardATD)\n",
    "    \n",
    "    image_BackwardATD_path = os.path.join(output_directory, f\"backwardATD_word{index}\")\n",
    "    cv2.imwrite(image_BackwardATD_path, backwardATD)\n",
    "    \n",
    "    image_BidirectionalATD_path = os.path.join(output_directory, f\"bidirectionalATD_word{index}\")\n",
    "    cv2.imwrite(image_BidirectionalATD_path, bidirectATD)\n",
    "        \n",
    "    print(f\"ATD frames '{output_directory[-6:]}_word{index}' created and saved in '{output_directory}'\")\n",
    "    # Need to make sure all files are named the same to have correct printing\n",
    "\n",
    "    stackedImage = np.dstack(forwardATD, backwardATD, bidirectATD)#.astype(np.uint8)\n",
    "    \n",
    "    stackedImage_path = os.path.join(output_directory, f\"stackedImage_word{index}\")\n",
    "    cv2.imwrite(stackedImage_path, stackedImage)\n",
    "    \n",
    "    print(f\"Stacked Image '{output_directory[-6:]}_word{index}' created and saved in '{output_directory}'\")\n",
    "    # Need to make sure all files are named the same to have correct printing"
   ]
  },
  {
   "cell_type": "markdown",
   "metadata": {},
   "source": [
    "### Main\n",
    "Running Image Sequence then GrayScale then ATD then Stacking"
   ]
  },
  {
   "cell_type": "code",
   "execution_count": 27,
   "metadata": {},
   "outputs": [],
   "source": [
    "## Main1: Creating External Files\n",
    "\n",
    "\n",
    "base_directory = 'C:/Users/salma/Downloads/file' # CHANGE\n",
    "\n",
    "## Image Sequence File ##\n",
    "# Create 'file2' folder if not exists (the folder holding the frames of each video)\n",
    "file2_path = os.path.join('C:/Users/salma/Downloads/file2')  # CHANGE\n",
    "if not os.path.exists(file2_path):\n",
    "    os.makedirs(file2_path)\n",
    "    logging.info(f\"Folder 'file2' created at {file2_path}\")\n",
    "\n",
    "## GrayScale File ##\n",
    "# Create 'file3' folder if not exists (the folder holding greyscale image for each video)\n",
    "file3_path = os.path.join('C:/Users/salma/Downloads/file3') # CHANGE\n",
    "if not os.path.exists(file3_path):\n",
    "    os.makedirs(file3_path)\n",
    "    logging.info(f\"Folder 'file3' created at {file3_path}\")\n",
    "    \n",
    "## ATD and Stacked Image ##\n",
    "# Create 'file4' folder if not exists (The folder holding the ATD Frams - RGB and Stacked image)\n",
    "file4_path = os.path.join('C:/Users/salma/Downloads/file4') # CHANGE\n",
    "if not os.path.exists(file4_path):\n",
    "    os.makedirs(file4_path)\n",
    "    logging.info(f\"Folder 'file4' created at {file4_path}\")"
   ]
  },
  {
   "cell_type": "code",
   "execution_count": 32,
   "metadata": {},
   "outputs": [
    {
     "name": "stdout",
     "output_type": "stream",
     "text": [
      ".svo file 'fAG_01.svo' exported and saved in 'C:/Users/salma/Downloads/file2\\2 words\\AG\\fAG_01'\n",
      "video images 'fAG_01' converted to grayscale and saved in 'C:/Users/salma/Downloads/file3\\2 words\\AG\\fAG_01'\n"
     ]
    },
    {
     "ename": "ValueError",
     "evalue": "unknown file extension: ",
     "output_type": "error",
     "traceback": [
      "\u001b[1;31m---------------------------------------------------------------------------\u001b[0m",
      "\u001b[1;31mKeyError\u001b[0m                                  Traceback (most recent call last)",
      "File \u001b[1;32mc:\\Users\\salma\\AppData\\Local\\Programs\\Python\\Python312\\Lib\\site-packages\\PIL\\Image.py:2415\u001b[0m, in \u001b[0;36mImage.save\u001b[1;34m(self, fp, format, **params)\u001b[0m\n\u001b[0;32m   2414\u001b[0m \u001b[38;5;28;01mtry\u001b[39;00m:\n\u001b[1;32m-> 2415\u001b[0m     \u001b[38;5;28mformat\u001b[39m \u001b[38;5;241m=\u001b[39m \u001b[43mEXTENSION\u001b[49m\u001b[43m[\u001b[49m\u001b[43mext\u001b[49m\u001b[43m]\u001b[49m\n\u001b[0;32m   2416\u001b[0m \u001b[38;5;28;01mexcept\u001b[39;00m \u001b[38;5;167;01mKeyError\u001b[39;00m \u001b[38;5;28;01mas\u001b[39;00m e:\n",
      "\u001b[1;31mKeyError\u001b[0m: ''",
      "\nThe above exception was the direct cause of the following exception:\n",
      "\u001b[1;31mValueError\u001b[0m                                Traceback (most recent call last)",
      "Cell \u001b[1;32mIn[32], line 66\u001b[0m\n\u001b[0;32m     64\u001b[0m \u001b[38;5;28;01mfor\u001b[39;00m i \u001b[38;5;129;01min\u001b[39;00m \u001b[38;5;28mrange\u001b[39m(noWords): \u001b[38;5;66;03m# Drop first and last split \u001b[39;00m\n\u001b[0;32m     65\u001b[0m     index \u001b[38;5;241m=\u001b[39m split \u001b[38;5;241m*\u001b[39m i\n\u001b[1;32m---> 66\u001b[0m     \u001b[43mapplyATD\u001b[49m\u001b[43m(\u001b[49m\u001b[43mgrayImagesList\u001b[49m\u001b[43m[\u001b[49m\u001b[43mindex\u001b[49m\u001b[43m:\u001b[49m\u001b[43m \u001b[49m\u001b[43mindex\u001b[49m\u001b[43m \u001b[49m\u001b[38;5;241;43m+\u001b[39;49m\u001b[43m \u001b[49m\u001b[43msplit\u001b[49m\u001b[43m]\u001b[49m\u001b[43m,\u001b[49m\u001b[43m \u001b[49m\u001b[43moutput_atd_path\u001b[49m\u001b[43m,\u001b[49m\u001b[43m \u001b[49m\u001b[43mi\u001b[49m\u001b[43m)\u001b[49m\n",
      "Cell \u001b[1;32mIn[31], line 13\u001b[0m, in \u001b[0;36mapplyATD\u001b[1;34m(frames, output_directory, index)\u001b[0m\n\u001b[0;32m      6\u001b[0m \u001b[38;5;66;03m# Convert to np.uint8\u001b[39;00m\n\u001b[0;32m      7\u001b[0m \u001b[38;5;66;03m# forwardATD = forwardATD.astype(np.uint8)\u001b[39;00m\n\u001b[0;32m      8\u001b[0m \u001b[38;5;66;03m# backwardATD = backwardATD.astype(np.uint8)\u001b[39;00m\n\u001b[0;32m      9\u001b[0m \u001b[38;5;66;03m# bidirectATD = bidirectATD.astype(np.uint8)\u001b[39;00m\n\u001b[0;32m     10\u001b[0m \n\u001b[0;32m     11\u001b[0m \u001b[38;5;66;03m# Save the atd images (RGB) to a directory\u001b[39;00m\n\u001b[0;32m     12\u001b[0m image_ForwardATD_path \u001b[38;5;241m=\u001b[39m os\u001b[38;5;241m.\u001b[39mpath\u001b[38;5;241m.\u001b[39mjoin(output_directory, \u001b[38;5;124mf\u001b[39m\u001b[38;5;124m\"\u001b[39m\u001b[38;5;124mforwardATD_word\u001b[39m\u001b[38;5;132;01m{\u001b[39;00mindex\u001b[38;5;132;01m}\u001b[39;00m\u001b[38;5;124m\"\u001b[39m)\n\u001b[1;32m---> 13\u001b[0m \u001b[43mplt\u001b[49m\u001b[38;5;241;43m.\u001b[39;49m\u001b[43mimsave\u001b[49m\u001b[43m(\u001b[49m\u001b[43mimage_ForwardATD_path\u001b[49m\u001b[43m,\u001b[49m\u001b[43m \u001b[49m\u001b[43mforwardATD\u001b[49m\u001b[43m)\u001b[49m\n",
      "File \u001b[1;32mc:\\Users\\salma\\AppData\\Local\\Programs\\Python\\Python312\\Lib\\site-packages\\matplotlib\\pyplot.py:2411\u001b[0m, in \u001b[0;36mimsave\u001b[1;34m(fname, arr, **kwargs)\u001b[0m\n\u001b[0;32m   2407\u001b[0m \u001b[38;5;129m@_copy_docstring_and_deprecators\u001b[39m(matplotlib\u001b[38;5;241m.\u001b[39mimage\u001b[38;5;241m.\u001b[39mimsave)\n\u001b[0;32m   2408\u001b[0m \u001b[38;5;28;01mdef\u001b[39;00m \u001b[38;5;21mimsave\u001b[39m(\n\u001b[0;32m   2409\u001b[0m     fname: \u001b[38;5;28mstr\u001b[39m \u001b[38;5;241m|\u001b[39m os\u001b[38;5;241m.\u001b[39mPathLike \u001b[38;5;241m|\u001b[39m BinaryIO, arr: ArrayLike, \u001b[38;5;241m*\u001b[39m\u001b[38;5;241m*\u001b[39mkwargs\n\u001b[0;32m   2410\u001b[0m ) \u001b[38;5;241m-\u001b[39m\u001b[38;5;241m>\u001b[39m \u001b[38;5;28;01mNone\u001b[39;00m:\n\u001b[1;32m-> 2411\u001b[0m     \u001b[43mmatplotlib\u001b[49m\u001b[38;5;241;43m.\u001b[39;49m\u001b[43mimage\u001b[49m\u001b[38;5;241;43m.\u001b[39;49m\u001b[43mimsave\u001b[49m\u001b[43m(\u001b[49m\u001b[43mfname\u001b[49m\u001b[43m,\u001b[49m\u001b[43m \u001b[49m\u001b[43marr\u001b[49m\u001b[43m,\u001b[49m\u001b[43m \u001b[49m\u001b[38;5;241;43m*\u001b[39;49m\u001b[38;5;241;43m*\u001b[39;49m\u001b[43mkwargs\u001b[49m\u001b[43m)\u001b[49m\n",
      "File \u001b[1;32mc:\\Users\\salma\\AppData\\Local\\Programs\\Python\\Python312\\Lib\\site-packages\\matplotlib\\image.py:1656\u001b[0m, in \u001b[0;36mimsave\u001b[1;34m(fname, arr, vmin, vmax, cmap, format, origin, dpi, metadata, pil_kwargs)\u001b[0m\n\u001b[0;32m   1654\u001b[0m pil_kwargs\u001b[38;5;241m.\u001b[39msetdefault(\u001b[38;5;124m\"\u001b[39m\u001b[38;5;124mformat\u001b[39m\u001b[38;5;124m\"\u001b[39m, \u001b[38;5;28mformat\u001b[39m)\n\u001b[0;32m   1655\u001b[0m pil_kwargs\u001b[38;5;241m.\u001b[39msetdefault(\u001b[38;5;124m\"\u001b[39m\u001b[38;5;124mdpi\u001b[39m\u001b[38;5;124m\"\u001b[39m, (dpi, dpi))\n\u001b[1;32m-> 1656\u001b[0m \u001b[43mimage\u001b[49m\u001b[38;5;241;43m.\u001b[39;49m\u001b[43msave\u001b[49m\u001b[43m(\u001b[49m\u001b[43mfname\u001b[49m\u001b[43m,\u001b[49m\u001b[43m \u001b[49m\u001b[38;5;241;43m*\u001b[39;49m\u001b[38;5;241;43m*\u001b[39;49m\u001b[43mpil_kwargs\u001b[49m\u001b[43m)\u001b[49m\n",
      "File \u001b[1;32mc:\\Users\\salma\\AppData\\Local\\Programs\\Python\\Python312\\Lib\\site-packages\\PIL\\Image.py:2418\u001b[0m, in \u001b[0;36mImage.save\u001b[1;34m(self, fp, format, **params)\u001b[0m\n\u001b[0;32m   2416\u001b[0m     \u001b[38;5;28;01mexcept\u001b[39;00m \u001b[38;5;167;01mKeyError\u001b[39;00m \u001b[38;5;28;01mas\u001b[39;00m e:\n\u001b[0;32m   2417\u001b[0m         msg \u001b[38;5;241m=\u001b[39m \u001b[38;5;124mf\u001b[39m\u001b[38;5;124m\"\u001b[39m\u001b[38;5;124munknown file extension: \u001b[39m\u001b[38;5;132;01m{\u001b[39;00mext\u001b[38;5;132;01m}\u001b[39;00m\u001b[38;5;124m\"\u001b[39m\n\u001b[1;32m-> 2418\u001b[0m         \u001b[38;5;28;01mraise\u001b[39;00m \u001b[38;5;167;01mValueError\u001b[39;00m(msg) \u001b[38;5;28;01mfrom\u001b[39;00m \u001b[38;5;21;01me\u001b[39;00m\n\u001b[0;32m   2420\u001b[0m \u001b[38;5;28;01mif\u001b[39;00m \u001b[38;5;28mformat\u001b[39m\u001b[38;5;241m.\u001b[39mupper() \u001b[38;5;129;01mnot\u001b[39;00m \u001b[38;5;129;01min\u001b[39;00m SAVE:\n\u001b[0;32m   2421\u001b[0m     init()\n",
      "\u001b[1;31mValueError\u001b[0m: unknown file extension: "
     ]
    }
   ],
   "source": [
    "## Main 2: Itearte Through files and run Image Sequence, GrayScaling, ATD and Image Stacking\n",
    "\n",
    "\n",
    "# Iterate through the directory and its subdirectories\n",
    "first_iteration = True\n",
    "for root, dirs, files in os.walk(base_directory):\n",
    "    \n",
    "    # Skip the first iteration\n",
    "    if first_iteration:\n",
    "        first_iteration = False\n",
    "        continue  \n",
    "    \n",
    "    # Create folder for num of words (File2 - image sequence)\n",
    "    root_image_path = os.path.join(file2_path, os.path.relpath(root, base_directory))\n",
    "    if not os.path.exists(root_image_path):\n",
    "        os.makedirs(root_image_path)\n",
    "        \n",
    "    # Create folder for num of words (File3 - grayscale images)\n",
    "    root_grayscale_path = os.path.join(file3_path, os.path.relpath(root, base_directory))\n",
    "    if not os.path.exists(root_grayscale_path):\n",
    "        os.makedirs(root_grayscale_path)\n",
    "        \n",
    "    # Create folder for num of words (File4 - ATD and stacked images)\n",
    "    root_atd_path = os.path.join(file4_path, os.path.relpath(root, base_directory))\n",
    "    if not os.path.exists(root_atd_path):\n",
    "        os.makedirs(root_atd_path)\n",
    "    \n",
    "    for directory in dirs:\n",
    "        # Create folder for participant (File2 - image sequence)\n",
    "        par_image_path = os.path.join(root_image_path, directory)\n",
    "        if not os.path.exists(par_image_path):\n",
    "            os.makedirs(par_image_path)\n",
    "            \n",
    "        # Create folder for participant (File3 - grayscale image)\n",
    "        par_grayimage_path = os.path.join(root_grayscale_path, directory)\n",
    "        if not os.path.exists(par_grayimage_path):\n",
    "            os.makedirs(par_grayimage_path)\n",
    "            \n",
    "        # Create folder for participant (File4 - ATD and stacked images)\n",
    "        par_atd_path = os.path.join(root_atd_path, directory)\n",
    "        if not os.path.exists(par_atd_path):\n",
    "            os.makedirs(par_atd_path)\n",
    "        \n",
    "        # Run Image Sequence Code\n",
    "        par_vid_path = os.path.join(root, directory)\n",
    "        output_path = create_folders_and_export_videos(par_vid_path, par_image_path)\n",
    "        \n",
    "        # Run GrayScale\n",
    "        output_gray_path = os.path.join(par_grayimage_path, os.path.relpath(output_path, par_image_path))\n",
    "        if not os.path.exists(output_gray_path):\n",
    "            os.makedirs(output_gray_path)\n",
    "        grayImagesList = convertToGrayScale(output_path, output_gray_path)\n",
    "        \n",
    "        # Run ATD\n",
    "        output_atd_path = os.path.join(par_atd_path, os.path.relpath(output_gray_path, par_grayimage_path))\n",
    "        if not os.path.exists(output_atd_path):\n",
    "            os.makedirs(output_atd_path)\n",
    "        \n",
    "        noFrames = len(grayImagesList)\n",
    "        # n + 2\n",
    "        noWords =  5 # ex: for 3 words\n",
    "        split = noFrames // noWords\n",
    "        \n",
    "        for i in range(noWords): # Drop first and last split \n",
    "            index = split * i\n",
    "            applyATD(grayImagesList[index: index + split], output_atd_path, i)\n",
    "        "
   ]
  }
 ],
 "metadata": {
  "kernelspec": {
   "display_name": "Python 3",
   "language": "python",
   "name": "python3"
  },
  "language_info": {
   "codemirror_mode": {
    "name": "ipython",
    "version": 3
   },
   "file_extension": ".py",
   "mimetype": "text/x-python",
   "name": "python",
   "nbconvert_exporter": "python",
   "pygments_lexer": "ipython3",
   "version": "3.12.0"
  }
 },
 "nbformat": 4,
 "nbformat_minor": 2
}
