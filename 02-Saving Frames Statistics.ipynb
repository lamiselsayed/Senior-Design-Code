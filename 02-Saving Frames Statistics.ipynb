{
 "cells": [
  {
   "cell_type": "code",
   "execution_count": 1,
   "metadata": {},
   "outputs": [],
   "source": [
    "import os\n",
    "import pandas as pd"
   ]
  },
  {
   "cell_type": "code",
   "execution_count": 2,
   "metadata": {},
   "outputs": [],
   "source": [
    "noWordsLen = {2: [], 3: [], 4: [], 5: []}"
   ]
  },
  {
   "cell_type": "code",
   "execution_count": 3,
   "metadata": {},
   "outputs": [],
   "source": [
    "numWordsArr = [2, 2, 4, 5, 5, 5, 5, 3, 3, 2, 4, 3, 2, 2, 3, 3, 2, 4, 3, 3, 4, 2, 3, 5, 5, 5, 2, 2, 4, 4, 5, 4, 3, 2, 3, 3, 3, 3, 2, 2, 2, 3, 2, 2, 2, 2, 4, 2, 2, 3]\n",
    "numWordsDict = {i+1: numWordsArr[i] for i in range(50)}"
   ]
  },
  {
   "cell_type": "code",
   "execution_count": 4,
   "metadata": {},
   "outputs": [],
   "source": [
    "dataset_path = r\"C:\\Users\\user\\Downloads\\Dataset (3)\\03\"            # make sure it points directly to the participant folder\n",
    "\n",
    "train_path = os.path.join(dataset_path, 'train')\n",
    "\n",
    "for sentence_folder in os.listdir(train_path):\n",
    "    sentence_path = os.path.join(train_path, sentence_folder)\n",
    "    idx = int(os.path.basename(sentence_path))\n",
    "    \n",
    "\n",
    "    gray_folders = [os.path.join(sentence_path, item) for item in os.listdir(sentence_path) if os.path.isdir(os.path.join(sentence_path, item))]\n",
    "\n",
    "    for gray_fold in gray_folders:\n",
    "        scan = os.scandir(gray_fold)\n",
    "        noWords = numWordsDict[idx]\n",
    "        noWordsLen[noWords].append(sum(1 for entry in scan))"
   ]
  },
  {
   "cell_type": "code",
   "execution_count": 7,
   "metadata": {},
   "outputs": [],
   "source": [
    "df = pd.DataFrame.from_dict(noWordsLen, orient='index').transpose()\n",
    "excel_file_path = 'Dataset Excel Sheets/Frames for P3.xlsx'           # rename the excel sheet with the participant's name\n",
    "df.to_excel(excel_file_path, index=False, header=True)"
   ]
  },
  {
   "cell_type": "code",
   "execution_count": 8,
   "metadata": {},
   "outputs": [
    {
     "data": {
      "text/html": [
       "<div>\n",
       "<style scoped>\n",
       "    .dataframe tbody tr th:only-of-type {\n",
       "        vertical-align: middle;\n",
       "    }\n",
       "\n",
       "    .dataframe tbody tr th {\n",
       "        vertical-align: top;\n",
       "    }\n",
       "\n",
       "    .dataframe thead th {\n",
       "        text-align: right;\n",
       "    }\n",
       "</style>\n",
       "<table border=\"1\" class=\"dataframe\">\n",
       "  <thead>\n",
       "    <tr style=\"text-align: right;\">\n",
       "      <th></th>\n",
       "      <th>2</th>\n",
       "      <th>3</th>\n",
       "      <th>4</th>\n",
       "      <th>5</th>\n",
       "    </tr>\n",
       "  </thead>\n",
       "  <tbody>\n",
       "    <tr>\n",
       "      <th>count</th>\n",
       "      <td>538.000000</td>\n",
       "      <td>374.000000</td>\n",
       "      <td>204.000000</td>\n",
       "      <td>218.000000</td>\n",
       "    </tr>\n",
       "    <tr>\n",
       "      <th>mean</th>\n",
       "      <td>75.985130</td>\n",
       "      <td>106.516043</td>\n",
       "      <td>136.990196</td>\n",
       "      <td>163.949541</td>\n",
       "    </tr>\n",
       "    <tr>\n",
       "      <th>std</th>\n",
       "      <td>14.448772</td>\n",
       "      <td>19.459823</td>\n",
       "      <td>24.861982</td>\n",
       "      <td>37.656490</td>\n",
       "    </tr>\n",
       "    <tr>\n",
       "      <th>min</th>\n",
       "      <td>42.000000</td>\n",
       "      <td>68.000000</td>\n",
       "      <td>83.000000</td>\n",
       "      <td>94.000000</td>\n",
       "    </tr>\n",
       "    <tr>\n",
       "      <th>25%</th>\n",
       "      <td>66.000000</td>\n",
       "      <td>91.000000</td>\n",
       "      <td>124.500000</td>\n",
       "      <td>136.000000</td>\n",
       "    </tr>\n",
       "    <tr>\n",
       "      <th>50%</th>\n",
       "      <td>75.000000</td>\n",
       "      <td>107.000000</td>\n",
       "      <td>138.000000</td>\n",
       "      <td>160.000000</td>\n",
       "    </tr>\n",
       "    <tr>\n",
       "      <th>75%</th>\n",
       "      <td>86.000000</td>\n",
       "      <td>117.000000</td>\n",
       "      <td>150.000000</td>\n",
       "      <td>185.000000</td>\n",
       "    </tr>\n",
       "    <tr>\n",
       "      <th>max</th>\n",
       "      <td>123.000000</td>\n",
       "      <td>170.000000</td>\n",
       "      <td>210.000000</td>\n",
       "      <td>284.000000</td>\n",
       "    </tr>\n",
       "  </tbody>\n",
       "</table>\n",
       "</div>"
      ],
      "text/plain": [
       "                2           3           4           5\n",
       "count  538.000000  374.000000  204.000000  218.000000\n",
       "mean    75.985130  106.516043  136.990196  163.949541\n",
       "std     14.448772   19.459823   24.861982   37.656490\n",
       "min     42.000000   68.000000   83.000000   94.000000\n",
       "25%     66.000000   91.000000  124.500000  136.000000\n",
       "50%     75.000000  107.000000  138.000000  160.000000\n",
       "75%     86.000000  117.000000  150.000000  185.000000\n",
       "max    123.000000  170.000000  210.000000  284.000000"
      ]
     },
     "execution_count": 8,
     "metadata": {},
     "output_type": "execute_result"
    }
   ],
   "source": [
    "# copy this output into your excel sheet please\n",
    "df.describe()"
   ]
  }
 ],
 "metadata": {
  "kernelspec": {
   "display_name": "base",
   "language": "python",
   "name": "python3"
  },
  "language_info": {
   "codemirror_mode": {
    "name": "ipython",
    "version": 3
   },
   "file_extension": ".py",
   "mimetype": "text/x-python",
   "name": "python",
   "nbconvert_exporter": "python",
   "pygments_lexer": "ipython3",
   "version": "3.11.8"
  }
 },
 "nbformat": 4,
 "nbformat_minor": 2
}
